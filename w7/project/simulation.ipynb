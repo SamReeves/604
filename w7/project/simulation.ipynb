{
 "cells": [
  {
   "cell_type": "markdown",
   "metadata": {},
   "source": [
    "# Sina's Wieners\n",
    "### A Discrete Time Simulation"
   ]
  },
  {
   "cell_type": "code",
   "execution_count": 1,
   "metadata": {},
   "outputs": [],
   "source": [
    "import numpy as np\n",
    "import matplotlib.pyplot as plt\n",
    "from modsim import *\n",
    "import pandas as pd\n",
    "from datetime import date, timedelta\n",
    "from scipy import stats\n",
    "import seaborn as sns\n",
    "\n",
    "sns.set()\n",
    "plt.style.use('dark_background')"
   ]
  },
  {
   "cell_type": "markdown",
   "metadata": {},
   "source": [
    "### Generate 10k Customers\n",
    "\n",
    "Attributes:\n",
    "\n",
    "* Salary\n",
    "* Cash\n",
    "* Credit\n",
    "* Affinity\n",
    "* Willingness\n",
    "\n",
    "The amount of money each is given will be based on an estimated average/mean salary for 2020.  We do not have complete information from later years.  The mean was \\$53,383, and the median \\$34,612.  Theoretically, half of the people should have a salary below the median, and the median and mean should line up.  In reality, this figure is highly skewed:\n",
    "\n",
    "![\"Source: https://www.ssa.gov/OACT/COLA/central.html\"](wages.png)\n",
    "\n",
    "Over time, the pay of management has risen far faster than the pay of \"regular\" employees.  So, for this experiment, we will assume that the hyper rich don't care for hotdogs, and that the median salary is the most realistic for the most people.  Median household salary for 2020 was around \\$67,000 according to the US Census, and the poverty line for a 3-person household was \\$21,700 according to the department of Health and Human Services.\n",
    "\n",
    "For simplicity, we will assume salaries for individual customers of Sina's Wieners to be normally distributed, centered around \\$35,000, with a standard deviation of \\$14,000.  We know that reality is much messier than this, but we have to start somewhere.\n"
   ]
  },
  {
   "cell_type": "markdown",
   "metadata": {},
   "source": [
    "\n",
    "Cash and credit will initialize at zero.\n",
    "\n",
    "The affinity score will range from 0 to 1, again normally distributed around the center of the range.\n",
    "\n",
    "Finally, we have willingness to download and use the app.  This value is either a 0 or 1.  From 1 January, 10% of the population will be ready to try it.  Whenever somebody makes a purchase with credit rewards, they will tell 3 friends about it, and each will have a 50% chance of downloading the app. 1 will be a regular customer, and 2 will be outside customers."
   ]
  },
  {
   "cell_type": "code",
   "execution_count": 2,
   "metadata": {},
   "outputs": [],
   "source": [
    "def generate_customer() -> tuple:\n",
    "    \"\"\"\n",
    "    Generate a customer with some randomly given attributes.\n",
    "    Returns: Tuple with customer attributes.\n",
    "    \"\"\"\n",
    "\n",
    "    # Salary normally distributed around 35k\n",
    "    salary = np.random.normal(loc=35000, scale=14000)\n",
    "\n",
    "    # Affinity for the wieners normally distributed around 1/2\n",
    "    affinity = np.random.normal(loc = 0.5, scale = 0.1)\n",
    "\n",
    "    cash = 0\n",
    "    credit = 0\n",
    "    willingness = 0\n",
    "\n",
    "    return (salary, cash, credit, affinity, willingness)\n",
    "    \n",
    "customers = pd.DataFrame(columns=['salary', 'cash', 'credit',\n",
    "                                  'affinity', 'willingness'])\n",
    "\n",
    "for i in range(10000):\n",
    "    customers.loc[i] = generate_customer()"
   ]
  },
  {
   "cell_type": "markdown",
   "metadata": {},
   "source": [
    "Now, we must give these people some cash to eat hotdogs with for the first 2-week period.  They will get paid on the 1st and 15th of each month, which means this number will be replenished.  The cash will not carry over, but the credit will.\n",
    "\n",
    "Their hotdog money is equal to 5% of the pay received in a pay period.\n",
    "\n",
    "We must also select the people who feel like trying out the app."
   ]
  },
  {
   "cell_type": "code",
   "execution_count": 3,
   "metadata": {},
   "outputs": [
    {
     "data": {
      "text/html": [
       "<div>\n",
       "<style scoped>\n",
       "    .dataframe tbody tr th:only-of-type {\n",
       "        vertical-align: middle;\n",
       "    }\n",
       "\n",
       "    .dataframe tbody tr th {\n",
       "        vertical-align: top;\n",
       "    }\n",
       "\n",
       "    .dataframe thead th {\n",
       "        text-align: right;\n",
       "    }\n",
       "</style>\n",
       "<table border=\"1\" class=\"dataframe\">\n",
       "  <thead>\n",
       "    <tr style=\"text-align: right;\">\n",
       "      <th></th>\n",
       "      <th>salary</th>\n",
       "      <th>cash</th>\n",
       "      <th>credit</th>\n",
       "      <th>affinity</th>\n",
       "      <th>willingness</th>\n",
       "    </tr>\n",
       "  </thead>\n",
       "  <tbody>\n",
       "    <tr>\n",
       "      <th>0</th>\n",
       "      <td>9194.55</td>\n",
       "      <td>17.68</td>\n",
       "      <td>0.0</td>\n",
       "      <td>0.50</td>\n",
       "      <td>0.0</td>\n",
       "    </tr>\n",
       "    <tr>\n",
       "      <th>1</th>\n",
       "      <td>42976.30</td>\n",
       "      <td>82.65</td>\n",
       "      <td>0.0</td>\n",
       "      <td>0.46</td>\n",
       "      <td>0.0</td>\n",
       "    </tr>\n",
       "    <tr>\n",
       "      <th>2</th>\n",
       "      <td>22806.41</td>\n",
       "      <td>43.86</td>\n",
       "      <td>0.0</td>\n",
       "      <td>0.52</td>\n",
       "      <td>0.0</td>\n",
       "    </tr>\n",
       "    <tr>\n",
       "      <th>3</th>\n",
       "      <td>44546.96</td>\n",
       "      <td>85.67</td>\n",
       "      <td>0.0</td>\n",
       "      <td>0.67</td>\n",
       "      <td>0.0</td>\n",
       "    </tr>\n",
       "    <tr>\n",
       "      <th>4</th>\n",
       "      <td>57749.76</td>\n",
       "      <td>111.06</td>\n",
       "      <td>0.0</td>\n",
       "      <td>0.52</td>\n",
       "      <td>0.0</td>\n",
       "    </tr>\n",
       "    <tr>\n",
       "      <th>5</th>\n",
       "      <td>12872.37</td>\n",
       "      <td>24.75</td>\n",
       "      <td>0.0</td>\n",
       "      <td>0.40</td>\n",
       "      <td>0.0</td>\n",
       "    </tr>\n",
       "    <tr>\n",
       "      <th>6</th>\n",
       "      <td>45967.30</td>\n",
       "      <td>88.40</td>\n",
       "      <td>0.0</td>\n",
       "      <td>0.47</td>\n",
       "      <td>0.0</td>\n",
       "    </tr>\n",
       "    <tr>\n",
       "      <th>7</th>\n",
       "      <td>46076.07</td>\n",
       "      <td>88.61</td>\n",
       "      <td>0.0</td>\n",
       "      <td>0.64</td>\n",
       "      <td>0.0</td>\n",
       "    </tr>\n",
       "    <tr>\n",
       "      <th>8</th>\n",
       "      <td>41144.33</td>\n",
       "      <td>79.12</td>\n",
       "      <td>0.0</td>\n",
       "      <td>0.55</td>\n",
       "      <td>0.0</td>\n",
       "    </tr>\n",
       "    <tr>\n",
       "      <th>9</th>\n",
       "      <td>30555.71</td>\n",
       "      <td>58.76</td>\n",
       "      <td>0.0</td>\n",
       "      <td>0.48</td>\n",
       "      <td>0.0</td>\n",
       "    </tr>\n",
       "  </tbody>\n",
       "</table>\n",
       "</div>"
      ],
      "text/plain": [
       "     salary    cash  credit  affinity  willingness\n",
       "0   9194.55   17.68     0.0      0.50          0.0\n",
       "1  42976.30   82.65     0.0      0.46          0.0\n",
       "2  22806.41   43.86     0.0      0.52          0.0\n",
       "3  44546.96   85.67     0.0      0.67          0.0\n",
       "4  57749.76  111.06     0.0      0.52          0.0\n",
       "5  12872.37   24.75     0.0      0.40          0.0\n",
       "6  45967.30   88.40     0.0      0.47          0.0\n",
       "7  46076.07   88.61     0.0      0.64          0.0\n",
       "8  41144.33   79.12     0.0      0.55          0.0\n",
       "9  30555.71   58.76     0.0      0.48          0.0"
      ]
     },
     "execution_count": 3,
     "metadata": {},
     "output_type": "execute_result"
    }
   ],
   "source": [
    "customers.cash = 0.05 * customers.salary / 26\n",
    "users = customers.sample(frac = 0.1)\n",
    "users.willingness = 1\n",
    "customers.update(users)\n",
    "\n",
    "customers = customers.round(decimals=2)\n",
    "customers.head(10)"
   ]
  },
  {
   "cell_type": "code",
   "execution_count": 4,
   "metadata": {},
   "outputs": [
    {
     "data": {
      "image/png": "[encoded data removed]",
      "text/plain": [
       "<Figure size 720x720 with 4 Axes>"
      ]
     },
     "metadata": {},
     "output_type": "display_data"
    }
   ],
   "source": [
    "fig, ax = plt.subplots(nrows=2, ncols=2, figsize=(10,10))\n",
    "ax[0,0].hist(customers.cash, bins=20)\n",
    "ax[0,0].set_title('Cash, Two weeks')\n",
    "\n",
    "ax[0,1].hist(customers.willingness, bins=10)\n",
    "ax[0,1].set_title('Willingness to Use Credit')\n",
    "ax[0,1].xaxis.set_ticks([0,1])\n",
    "\n",
    "ax[1,0].hist(customers.affinity, bins=20)\n",
    "ax[1,0].set_title('Affinity for Wieners')\n",
    "\n",
    "plt.show()"
   ]
  },
  {
   "cell_type": "markdown",
   "metadata": {},
   "source": [
    "### Federal Holidays\n",
    "\n",
    "No business will be conducted on these days"
   ]
  },
  {
   "cell_type": "code",
   "execution_count": 5,
   "metadata": {},
   "outputs": [],
   "source": [
    "holidays = (date(2020, 1, 1), date(2020, 1, 20),\n",
    "            date(2020, 2, 17),\n",
    "            date(2020, 5, 25),\n",
    "            date(2020, 7, 4),\n",
    "            date(2020, 9, 7),\n",
    "            date(2020, 11, 11), date(2020, 11, 26),\n",
    "            date(2020, 12, 24), date(2020, 12, 25))"
   ]
  },
  {
   "cell_type": "markdown",
   "metadata": {},
   "source": [
    "### Average Daily Customers\n",
    "\n",
    "In 2019, Burger King had around 18,000 restaurant locations around the world, serving 11 million customers per day.  We will use this information for our average daily customer rate of = 612.\n",
    "\n",
    "source: https://expandedramblings.com/index.php/burger-king-statistics-facts/\n",
    "\n",
    "The hottest day of the year in 2020 was July 21.  This was 202 days away from the beginning of the year.  We will use this information to model the customers coming in each day.  The coldest day was January 17th... and without putting in this information, we hit very close with a normal cosine oscillation."
   ]
  },
  {
   "cell_type": "code",
   "execution_count": 6,
   "metadata": {},
   "outputs": [
    {
     "data": {
      "text/plain": [
       "<AxesSubplot:>"
      ]
     },
     "execution_count": 6,
     "metadata": {},
     "output_type": "execute_result"
    },
    {
     "data": {
      "image/png": "[encoded data removed]",
      "text/plain": [
       "<Figure size 432x288 with 1 Axes>"
      ]
     },
     "metadata": {},
     "output_type": "display_data"
    }
   ],
   "source": [
    "df = pd.DataFrame(index=pd.date_range(start='2020-01-01', end='2020-12-31', freq='D'))\n",
    "factor = 0.25\n",
    "df['y'] = np.cos((df.index.to_series().dt.day_of_year - 202)/365*2*np.pi) * factor\n",
    "df['y'].plot()"
   ]
  },
  {
   "cell_type": "markdown",
   "metadata": {},
   "source": [
    "### Define Initial Parameters\n",
    "\n",
    "* Date begins at Jan 1\n",
    "* Start in Winter\n",
    "* Include all customers (don't modify the original dataframe)\n",
    "* Include holidays\n",
    "* Real money spent begins at 0\n",
    "* Rewards spent begins at 0\n",
    "* Good experience rate 99.5%\n",
    "* Customer reward rate 10%\n",
    "* Customers can buy in discrete denominations of $8 - $32, counting by $4"
   ]
  },
  {
   "cell_type": "code",
   "execution_count": 7,
   "metadata": {},
   "outputs": [],
   "source": [
    "params = Params(\n",
    "    customers = customers,\n",
    "    holidays = holidays,\n",
    "    exp_rate = 0.995,\n",
    "    reward = 0.1,\n",
    "    menu = (8, 12, 16, 20, 24, 28, 32)\n",
    "    )\n",
    "\n",
    "def make_system(params):\n",
    "    \"\"\"\n",
    "    Make a system with the given parameters.\n",
    "    Returns: System object.\n",
    "    \"\"\"\n",
    "    init = State(\n",
    "        customers = params.customers,\n",
    "        day = date(2020, 1, 1),\n",
    "        buyers = None,\n",
    "        capacity = 0.06125,\n",
    "        history = [])\n",
    "    \n",
    "    return System(params, state = init)\n",
    "\n",
    "system = make_system(params)"
   ]
  },
  {
   "cell_type": "code",
   "execution_count": 8,
   "metadata": {},
   "outputs": [],
   "source": [
    "def turnout(day):\n",
    "    \"\"\"\n",
    "    Calculate the customer turnout for a given day.\n",
    "    Returns: int.\n",
    "    \"\"\"\n",
    "    day = day.strftime('%Y-%m-%d')\n",
    "    df = pd.DataFrame(index=pd.date_range(start='2020-01-01', end='2020-12-31', freq='D'))\n",
    "    factor = 0.25\n",
    "    df['y'] = np.cos((df.index.to_series().dt.day_of_year - 202)/365*2*np.pi) * (1 + factor)\n",
    "    n = df['y'].loc[day] + 1 * np.random.normal(loc=len(system.state.customers), scale=50) * system.state.capacity\n",
    "    return int(n)"
   ]
  },
  {
   "cell_type": "markdown",
   "metadata": {},
   "source": [
    "### Start Day\n",
    "\n",
    "* If the day is 1 or 15, wipe the cash, and refill the amount.\n",
    "* Choose customers based on:\n",
    "    * cash and credit available\n",
    "    * affinity\n",
    "    * restaurant average daily numbers"
   ]
  },
  {
   "cell_type": "code",
   "execution_count": 9,
   "metadata": {},
   "outputs": [],
   "source": [
    "def start_day(system):\n",
    "    \"\"\"\n",
    "    Start a day in the system.\n",
    "    Returns: System object.\n",
    "    \"\"\"\n",
    "    \n",
    "    # Potential customers are those who have cash or credit,\n",
    "    # and who don't hate the restaurant.\n",
    "    cash_buyers = system.state.customers[system.state.customers['cash'] >= 8]\n",
    "    credit_buyers = system.state.customers[system.state.customers['credit'] >= 8]\n",
    "\n",
    "    buyers = cash_buyers.merge(credit_buyers, how='outer')\n",
    "    buyers = buyers[buyers['affinity'] > 0.05]\n",
    "\n",
    "    # Customers are selected at random near the average daily total\n",
    "    n = int(np.random.normal(loc=turnout(system.state.day) + system.state.capacity, scale=50))\n",
    "\n",
    "    # Higher turnout in Summer\n",
    "    n = turnout(system.state.day)\n",
    "    \n",
    "    system.state.buyers = buyers.sample(n)\n",
    "\n",
    "    return system"
   ]
  },
  {
   "cell_type": "markdown",
   "metadata": {},
   "source": [
    "### User Aqcuisition\n",
    "\n",
    "Whenever a person makes a successful purchase with credit:\n",
    "* They tell three friends about the service\n",
    "    * 1 is already a customer\n",
    "    * 2 are potential new customers\n",
    "* Each has a 50% of downloading and using the rewards service\n",
    "    * People who are not already customers will start enjoying the restaurant when they begin using the rewards program"
   ]
  },
  {
   "cell_type": "code",
   "execution_count": 10,
   "metadata": {},
   "outputs": [],
   "source": [
    "def word_of_mouth(system):\n",
    "    \"\"\"\n",
    "    On credit purchases, customers will spread the good word.\n",
    "    Returns: System object.\n",
    "    \"\"\"\n",
    "    if flip(0.33):\n",
    "        oldie = system.state.customers[system.state.customers['willingness'] == 0].sample(1)\n",
    "        oldie['willingness'] = 1\n",
    "        system.state.customers.update(oldie)\n",
    "\n",
    "    if flip(0.33):\n",
    "        i = len(system.state.customers) + 1\n",
    "        system.state.customers.loc[i] = generate_customer()\n",
    "        system.state.customers.loc[i]['willingness'] = 1\n",
    "    \n",
    "    return system"
   ]
  },
  {
   "cell_type": "markdown",
   "metadata": {},
   "source": [
    "### Conduct Business\n",
    "\n",
    "* Selected customers make purchases\n",
    "    * purchases are either cash or credit, not both\n",
    "    * after credit purchase, 3 friends are told about the app.  Each has a 50% chance of becoming a user.\n",
    "    * purchases are always in discrete amounts\n",
    "* Rewards issued to \"willing\" customers\n",
    "* Experience is good/bad\n",
    "* History saved\n",
    "    * number of customers\n",
    "    * total purchases cash\n",
    "    * total purchases credit\n",
    "    * total credit issued"
   ]
  },
  {
   "cell_type": "code",
   "execution_count": 11,
   "metadata": {},
   "outputs": [],
   "source": [
    "def conduct_business(system):\n",
    "    \"\"\"\n",
    "    Makes sales for a day and issue credit accordingly.\n",
    "    Returns: System object.\n",
    "    \"\"\"\n",
    "\n",
    "    # For the history matrix... day, number of customers,\n",
    "    # credit purchases, cash purchases, credit issued.\n",
    "    today = [system.state.day,\n",
    "             len(system.state.buyers),\n",
    "             None, None, None]\n",
    "\n",
    "    for i in system.state.buyers.index:        \n",
    "        # For each person, choose an item to buy.\n",
    "        # If it is too expensive, the person buys the cheapest item.\n",
    "        person = system.state.buyers.loc[i]\n",
    "        \n",
    "        item = np.random.choice(params.menu)\n",
    "        if (item > person.cash) & (item > person.credit):\n",
    "            item = 8\n",
    "\n",
    "        # Buying with credit\n",
    "        if (item <= person.credit):\n",
    "            person.credit -= item\n",
    "            if today[2] == None:\n",
    "                today[2] = item\n",
    "            else:\n",
    "                today[2] += item\n",
    "            \n",
    "            # This cutomer spreads the good word\n",
    "            system = word_of_mouth(system)\n",
    "\n",
    "        # Buying with cash\n",
    "        elif (item <= person.cash):\n",
    "            person.cash -= item\n",
    "            if today[3] == None:\n",
    "                today[3] = item\n",
    "            else:\n",
    "                today[3] += item\n",
    "\n",
    "            # Issue credit\n",
    "            if person.willingness == 1:\n",
    "                person.credit += item * params.reward\n",
    "                if today[4] == None:\n",
    "                    today[4] = person.credit\n",
    "                else:\n",
    "                    today[4] += person.credit\n",
    "         \n",
    "        # Punish negative dining experience, slightly reward a positive one\n",
    "        if flip(params.exp_rate):\n",
    "            person.affinity *= 1.1\n",
    "        else:\n",
    "            person.affinity *= 0.75\n",
    "\n",
    "        # Update customer information\n",
    "        system.state.customers.loc[i].update(person)\n",
    "\n",
    "    # Update history\n",
    "    if system.state.history:\n",
    "        system.state.history.append(today)\n",
    "    else:\n",
    "        system.state.history = [today]\n",
    "\n",
    "    return system"
   ]
  },
  {
   "cell_type": "markdown",
   "metadata": {},
   "source": [
    "### After Hours Trading\n",
    "\n",
    "* Trade or keep assets from the day, based on affinity score\n",
    "* Trades subtract credit from seller\n",
    "* Trades add 80% cash to seller\n",
    "* Trades add credit to buyer\n",
    "* Trades subtract 80% cash from buyer\n"
   ]
  },
  {
   "cell_type": "code",
   "execution_count": 12,
   "metadata": {},
   "outputs": [],
   "source": [
    "def trade_rewards(system):\n",
    "    \"\"\"\n",
    "    Dissatisfied customers trade credit for 80% cash.\n",
    "    Returns: System object.\n",
    "    \"\"\"\n",
    "    \n",
    "    users = system.state.customers[system.state.customers['willingness'] != 0]\n",
    "    dissatisfied = users[users.affinity < 0.05]\n",
    "    satisfied = users[users.affinity >= 0.05]\n",
    "\n",
    "    # Loop through dissatisfied customers\n",
    "    for i in dissatisfied.index:\n",
    "        seller = dissatisfied.loc[i]\n",
    "        if satisfied.cash.sum() < seller.credit:\n",
    "            break\n",
    "        \n",
    "        # Trade until credit is gone\n",
    "        while person.credit > 0:\n",
    "            # Find a random buyer and trade\n",
    "            buyer = satisfied.sample(1)\n",
    "            credit_swap = min(seller.credit, buyer.cash * 0.8)\n",
    "            seller.credit -= credit_swap\n",
    "            buyer.credit += credit_swap\n",
    "            buyer.cash -= credit_swap * 0.8\n",
    "            seller.cash += credit_swap * 0.8\n",
    "\n",
    "    system.state.customers.update(users)\n",
    "    return(system)"
   ]
  },
  {
   "cell_type": "markdown",
   "metadata": {},
   "source": [
    "### End Day\n",
    "\n",
    "* If day is Dec 31, terminate simulation\n",
    "* Start Spring Mar 20\n",
    "* Start Summer Jun 21\n",
    "* Start Autumn Sep 23\n",
    "* Start Winter Dec 21"
   ]
  },
  {
   "cell_type": "code",
   "execution_count": 13,
   "metadata": {},
   "outputs": [],
   "source": [
    "def end_day(system):\n",
    "    \"\"\"\n",
    "    End a day in the system.\n",
    "    Return: system object.\n",
    "    \"\"\"\n",
    "    # Pay day!\n",
    "    if system.state.day == (1 | 15):\n",
    "        system.state.customers.cash = 0.05 * system.state.customers.salary / 26\n",
    "    \n",
    "    # Update season\n",
    "    if system.state.day == date(2020, 3, 19):\n",
    "        system.state.season = 'spring'\n",
    "    elif system.state.day == date(2020, 6, 20):\n",
    "        system.state.season = 'summer'\n",
    "    elif system.state.day == date(2020, 9, 22):\n",
    "        system.state.season = 'fall'\n",
    "    elif system.state.day == date(2020, 12, 20):\n",
    "        system.state.season = 'winter'\n",
    "    \n",
    "    # Update day\n",
    "    system.state.day += timedelta(days=1)\n",
    "    \n",
    "    return system"
   ]
  },
  {
   "cell_type": "markdown",
   "metadata": {},
   "source": [
    "### Run Simulation\n",
    "\n",
    "* start_day()\n",
    "* if day is holiday skip to end_day()\n",
    "* conduct_business()\n",
    "* after_hours()\n",
    "* end_day()\n",
    "* return system object"
   ]
  },
  {
   "cell_type": "code",
   "execution_count": 14,
   "metadata": {},
   "outputs": [],
   "source": [
    "def run_simulation(system):\n",
    "    \"\"\"\n",
    "    Run the simulation.\n",
    "    Returns: System object.\n",
    "    \"\"\"\n",
    "    while system.state.day < date(2020, 12, 31):\n",
    "        system = start_day(system)\n",
    "\n",
    "        # Nobody works on federal holidays!\n",
    "        if system.state.day in params.holidays:\n",
    "            system = end_day(system)\n",
    "\n",
    "        # This is a normal day\n",
    "        else:\n",
    "            system = conduct_business(system)\n",
    "            system = trade_rewards(system)\n",
    "            system = end_day(system)\n",
    "            \n",
    "    return system"
   ]
  },
  {
   "cell_type": "code",
   "execution_count": 15,
   "metadata": {},
   "outputs": [],
   "source": [
    "final = run_simulation(system)\n",
    "history = pd.DataFrame(final.state.history,\n",
    "    columns=['day', 'customers', 'credit_purchases', 'cash_purchases', 'credit_issued'])"
   ]
  },
  {
   "cell_type": "markdown",
   "metadata": {},
   "source": [
    "### Descriptive Graphs\n",
    "\n",
    "Total spent each day\n",
    "\n",
    "Rewards used vs traded over all"
   ]
  },
  {
   "cell_type": "code",
   "execution_count": null,
   "metadata": {},
   "outputs": [],
   "source": [
    "fig, ax = plt.subplots(nrows = 2, ncols=2, figsize=(10,10))\n",
    "\n",
    "ax[0,0].plot(history.day, history.customers)\n",
    "ax[0,0].set_title('Customers')\n",
    "\n",
    "ax[0,1].plot(history.day, history.credit_purchases)\n",
    "ax[0,1].set_title('Credit Purchases')\n",
    "\n",
    "ax[1,0].plot(history.day, history.cash_purchases)\n",
    "ax[1,0].set_title('Cash Purchases')\n",
    "\n",
    "ax[1,1].plot(history.day, history.credit_issued)\n",
    "ax[1,1].set_title('Credit Issued')"
   ]
  },
  {
   "cell_type": "markdown",
   "metadata": {},
   "source": [
    "### Cost/Benefit Analysis\n",
    "\n",
    "What is the net profit with these parameters?"
   ]
  },
  {
   "cell_type": "code",
   "execution_count": null,
   "metadata": {},
   "outputs": [],
   "source": [
    "def net_profit(system):\n",
    "    \"\"\"\n",
    "    Returns: net profit.\n",
    "    Each purchase costs the business $0.40 to produce for each $1 purchased\n",
    "    \"\"\"\n",
    "    revenue = history.cash_purchases.sum()\n",
    "    net = revenue - (history.credit_purchases.sum() + history.credit_purchases.sum()) * 0.6\n",
    "    return net\n",
    "\n",
    "net_profit(history)"
   ]
  },
  {
   "cell_type": "markdown",
   "metadata": {},
   "source": [
    "What is the optimal reward rate?"
   ]
  },
  {
   "cell_type": "code",
   "execution_count": null,
   "metadata": {},
   "outputs": [],
   "source": [
    "reward_array = linspace(0.01, 0.2, 11)\n",
    "reward_array"
   ]
  },
  {
   "cell_type": "code",
   "execution_count": null,
   "metadata": {},
   "outputs": [],
   "source": [
    "def sweep_rewards(reward_array, params):\n",
    "    \"\"\"\n",
    "    Sweeps a range of values for customer rewards.\n",
    "    Returns: Sweep object\n",
    "    \"\"\"\n",
    "    sweep = SweepSeries()\n",
    "    for rate in reward_array:\n",
    "        params.reward = rate\n",
    "        system = make_system(params)\n",
    "        final = run_simulation(system)\n",
    "        history = pd.DataFrame(final.state.history,\n",
    "            columns=['day', 'customers', 'credit_purchases',\n",
    "                     'cash_purchases', 'credit_issued'])\n",
    "        sweep[rate] = net_profit(history)\n",
    "\n",
    "    return sweep\n"
   ]
  },
  {
   "cell_type": "code",
   "execution_count": null,
   "metadata": {},
   "outputs": [],
   "source": [
    "reward_sweep = sweep_rewards(reward_array, params)"
   ]
  }
 ],
 "metadata": {
  "kernelspec": {
   "display_name": "Python 3.9.12 ('base')",
   "language": "python",
   "name": "python3"
  },
  "language_info": {
   "codemirror_mode": {
    "name": "ipython",
    "version": 3
   },
   "file_extension": ".py",
   "mimetype": "text/x-python",
   "name": "python",
   "nbconvert_exporter": "python",
   "pygments_lexer": "ipython3",
   "version": "3.9.12"
  },
  "orig_nbformat": 4,
  "vscode": {
   "interpreter": {
    "hash": "7620178bed642c2dde5be7acf5bacc8060d72c266a8607acfff932cb142e8a45"
   }
  }
 },
 "nbformat": 4,
 "nbformat_minor": 2
}
