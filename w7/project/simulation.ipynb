{
 "cells": [
  {
   "cell_type": "markdown",
   "metadata": {},
   "source": [
    "# Sina's Wieners\n",
    "### A Discrete Time Simulation"
   ]
  },
  {
   "cell_type": "code",
   "execution_count": 7,
   "metadata": {},
   "outputs": [],
   "source": [
    "import numpy as np\n",
    "import matplotlib.pyplot as plt\n",
    "import modsim as ms\n",
    "import pandas as pd\n",
    "from datetime import date, timedelta"
   ]
  },
  {
   "cell_type": "markdown",
   "metadata": {},
   "source": [
    "### Generate 10k Customers\n",
    "\n",
    "Attributes:\n",
    "\n",
    "* Salary\n",
    "* Cash\n",
    "* Credit\n",
    "* Affinity\n",
    "* Seasonality\n",
    "* Willingness\n",
    "\n",
    "The amount of money each is given will be based on an estimated average/mean salary for 2020.  We do not have complete information from later years.  The mean was \\$53,383, and the median \\$34,612.  Theoretically, half of the people should have a salary below the median, and the median and mean should line up.  In reality, this figure is highly skewed:\n",
    "\n",
    "![\"Source: https://www.ssa.gov/OACT/COLA/central.html\"](wages.png)\n",
    "\n",
    "Over time, the pay of management has risen far faster than the pay of \"regular\" employees.  So, for this experiment, we will assume that the hyper rich don't care for hotdogs, and that the median salary is the most realistic for the most people.  Median household salary for 2020 was around \\$67,000 according to the US Census, and the poverty line for a 3-person household was \\$21,700 according to the department of Health and Human Services.\n",
    "\n",
    "For simplicity, we will assume salaries for individual customers of Sina's Wieners to be normally distributed, centered around \\$35,000, with a standard deviation of \\$14,000.  We know that reality is much messier than this, but we have to start somewhere.\n",
    "\n",
    "Cash and credit will initialize at zero.\n",
    "\n",
    "The affinity score will range from 0 to 1, again normally distributed around the center of the range.\n",
    "\n",
    "Seasonality will determine the likelihood that an individual's willingness to go outside is affected by the weather.  We will generate this information on an exponential curve with lambda equal to 10. A score closer to zero will mean you don't care how hot or cold it is -- you gotta have those wieners.\n",
    "\n",
    "Finally, we have willingness to download and use the app.  This value is either a 0 or 1.  From 1 January, 10% of the population will be ready to try it.  We will add another 5% of untapped customers on 1 April, 1 July, and 1 October."
   ]
  },
  {
   "cell_type": "code",
   "execution_count": 2,
   "metadata": {},
   "outputs": [],
   "source": [
    "def generate_customer() -> tuple:\n",
    "    \"\"\"\n",
    "    Generate a customer with some randomly generated attributes.\n",
    "    Returns: Tuple with .\n",
    "    \"\"\"\n",
    "    \n",
    "    salary = np.random.normal(loc=35000, scale=14000)\n",
    "    cash = 0\n",
    "    credit = 0\n",
    "    affinity = np.random.normal(loc = 0.5, scale = 0.2)\n",
    "    seasonality = np.random.exponential(scale=0.1)\n",
    "    willingness = 0\n",
    "\n",
    "    return (salary, cash, credit, affinity, seasonality, willingness)\n",
    "    \n",
    "customers = pd.DataFrame(columns=['salary', 'cash', 'credit',\n",
    "                                  'affinity', 'seasonality', 'willingness'])\n",
    "\n",
    "for i in range(10000):\n",
    "    customers.loc[i] = generate_customer()"
   ]
  },
  {
   "cell_type": "markdown",
   "metadata": {},
   "source": [
    "Now, we must give these people some cash to eat hotdogs with for the first 2-week period.  They will get paid on the 1st and 15th of each month, which means this number will be replenished.  The cash will not carry over, but the credit will.\n",
    "\n",
    "Their hotdog money is equal to 5% of the pay received in a pay period.\n",
    "\n",
    "We must also select the people who feel like trying out the app."
   ]
  },
  {
   "cell_type": "code",
   "execution_count": 3,
   "metadata": {},
   "outputs": [
    {
     "data": {
      "text/html": [
       "<div>\n",
       "<style scoped>\n",
       "    .dataframe tbody tr th:only-of-type {\n",
       "        vertical-align: middle;\n",
       "    }\n",
       "\n",
       "    .dataframe tbody tr th {\n",
       "        vertical-align: top;\n",
       "    }\n",
       "\n",
       "    .dataframe thead th {\n",
       "        text-align: right;\n",
       "    }\n",
       "</style>\n",
       "<table border=\"1\" class=\"dataframe\">\n",
       "  <thead>\n",
       "    <tr style=\"text-align: right;\">\n",
       "      <th></th>\n",
       "      <th>salary</th>\n",
       "      <th>cash</th>\n",
       "      <th>credit</th>\n",
       "      <th>affinity</th>\n",
       "      <th>seasonality</th>\n",
       "      <th>willingness</th>\n",
       "    </tr>\n",
       "  </thead>\n",
       "  <tbody>\n",
       "    <tr>\n",
       "      <th>0</th>\n",
       "      <td>56558.738043</td>\n",
       "      <td>108.766804</td>\n",
       "      <td>0.0</td>\n",
       "      <td>0.763129</td>\n",
       "      <td>0.016610</td>\n",
       "      <td>0.0</td>\n",
       "    </tr>\n",
       "    <tr>\n",
       "      <th>1</th>\n",
       "      <td>30700.541653</td>\n",
       "      <td>59.039503</td>\n",
       "      <td>0.0</td>\n",
       "      <td>0.461983</td>\n",
       "      <td>0.066544</td>\n",
       "      <td>0.0</td>\n",
       "    </tr>\n",
       "    <tr>\n",
       "      <th>2</th>\n",
       "      <td>44807.078051</td>\n",
       "      <td>86.167458</td>\n",
       "      <td>0.0</td>\n",
       "      <td>0.507194</td>\n",
       "      <td>0.218084</td>\n",
       "      <td>0.0</td>\n",
       "    </tr>\n",
       "    <tr>\n",
       "      <th>3</th>\n",
       "      <td>18139.597927</td>\n",
       "      <td>34.883842</td>\n",
       "      <td>0.0</td>\n",
       "      <td>0.424213</td>\n",
       "      <td>0.018755</td>\n",
       "      <td>0.0</td>\n",
       "    </tr>\n",
       "    <tr>\n",
       "      <th>4</th>\n",
       "      <td>15850.095958</td>\n",
       "      <td>30.480954</td>\n",
       "      <td>0.0</td>\n",
       "      <td>0.325072</td>\n",
       "      <td>0.123575</td>\n",
       "      <td>1.0</td>\n",
       "    </tr>\n",
       "    <tr>\n",
       "      <th>5</th>\n",
       "      <td>31290.036820</td>\n",
       "      <td>60.173148</td>\n",
       "      <td>0.0</td>\n",
       "      <td>0.319517</td>\n",
       "      <td>0.188870</td>\n",
       "      <td>0.0</td>\n",
       "    </tr>\n",
       "    <tr>\n",
       "      <th>6</th>\n",
       "      <td>13483.172218</td>\n",
       "      <td>25.929177</td>\n",
       "      <td>0.0</td>\n",
       "      <td>0.450611</td>\n",
       "      <td>0.421967</td>\n",
       "      <td>0.0</td>\n",
       "    </tr>\n",
       "    <tr>\n",
       "      <th>7</th>\n",
       "      <td>54494.204485</td>\n",
       "      <td>104.796547</td>\n",
       "      <td>0.0</td>\n",
       "      <td>0.306958</td>\n",
       "      <td>0.023881</td>\n",
       "      <td>0.0</td>\n",
       "    </tr>\n",
       "    <tr>\n",
       "      <th>8</th>\n",
       "      <td>33373.568952</td>\n",
       "      <td>64.179940</td>\n",
       "      <td>0.0</td>\n",
       "      <td>0.730569</td>\n",
       "      <td>0.050156</td>\n",
       "      <td>0.0</td>\n",
       "    </tr>\n",
       "    <tr>\n",
       "      <th>9</th>\n",
       "      <td>59368.924388</td>\n",
       "      <td>114.171008</td>\n",
       "      <td>0.0</td>\n",
       "      <td>0.472478</td>\n",
       "      <td>0.032467</td>\n",
       "      <td>0.0</td>\n",
       "    </tr>\n",
       "  </tbody>\n",
       "</table>\n",
       "</div>"
      ],
      "text/plain": [
       "         salary        cash  credit  affinity  seasonality  willingness\n",
       "0  56558.738043  108.766804     0.0  0.763129     0.016610          0.0\n",
       "1  30700.541653   59.039503     0.0  0.461983     0.066544          0.0\n",
       "2  44807.078051   86.167458     0.0  0.507194     0.218084          0.0\n",
       "3  18139.597927   34.883842     0.0  0.424213     0.018755          0.0\n",
       "4  15850.095958   30.480954     0.0  0.325072     0.123575          1.0\n",
       "5  31290.036820   60.173148     0.0  0.319517     0.188870          0.0\n",
       "6  13483.172218   25.929177     0.0  0.450611     0.421967          0.0\n",
       "7  54494.204485  104.796547     0.0  0.306958     0.023881          0.0\n",
       "8  33373.568952   64.179940     0.0  0.730569     0.050156          0.0\n",
       "9  59368.924388  114.171008     0.0  0.472478     0.032467          0.0"
      ]
     },
     "execution_count": 3,
     "metadata": {},
     "output_type": "execute_result"
    }
   ],
   "source": [
    "customers.cash = 0.05 * customers.salary / 26\n",
    "willing = customers.sample(frac = 0.1)\n",
    "willing.willingness = 1\n",
    "customers.update(willing)\n",
    "customers.head(10)"
   ]
  },
  {
   "cell_type": "markdown",
   "metadata": {},
   "source": [
    "### Federal Holidays\n",
    "\n",
    "No business will be conducted on these days"
   ]
  },
  {
   "cell_type": "code",
   "execution_count": 8,
   "metadata": {},
   "outputs": [],
   "source": [
    "holidays = (date(2020, 1, 1), date(2020, 1, 20),\n",
    "            date(2020, 2, 17),\n",
    "            date(2020, 5, 25),\n",
    "            date(2020, 7, 4),\n",
    "            date(2020, 9, 7),\n",
    "            date(2020, 11, 11), date(2020, 11, 26),\n",
    "            date(2020, 12, 24), date(2020, 12, 25))"
   ]
  },
  {
   "cell_type": "markdown",
   "metadata": {},
   "source": [
    "### Define Initial Parameters\n",
    "\n",
    "* Date begins at Jan 1\n",
    "* Start in Winter\n",
    "* Include all customers (don't modify the original dataframe)\n",
    "* Include holidays\n",
    "* Real money spent begins at 0\n",
    "* Rewards spent begins at 0\n",
    "* Bad experience rate = 0.005\n",
    "* Customer reward rate = 0.01"
   ]
  },
  {
   "cell_type": "code",
   "execution_count": null,
   "metadata": {},
   "outputs": [],
   "source": [
    "#init = Params()\n",
    "#make_system(init)"
   ]
  },
  {
   "cell_type": "markdown",
   "metadata": {},
   "source": [
    "### Start Day\n",
    "\n",
    "* If the day is 1 or 15, wipe the cash, and refill the amount.\n",
    "* If the day is a holiday, skip to end_day()\n",
    "* Choose customers"
   ]
  },
  {
   "cell_type": "code",
   "execution_count": null,
   "metadata": {},
   "outputs": [],
   "source": [
    "def start_day(system):\n",
    "    pass"
   ]
  },
  {
   "cell_type": "markdown",
   "metadata": {},
   "source": [
    "### Conduct Business\n",
    "\n",
    "* Selected customers make purchases\n",
    "    * purchases are either cash or credit, not both\n",
    "    * purchases are always in discrete amounts\n",
    "* Rewards issued to \"willing\" customers\n",
    "* Experience is good/bad"
   ]
  },
  {
   "cell_type": "code",
   "execution_count": null,
   "metadata": {},
   "outputs": [],
   "source": [
    "def conduct_business(system):\n",
    "    pass"
   ]
  },
  {
   "cell_type": "markdown",
   "metadata": {},
   "source": [
    "### After Hours\n",
    "\n",
    "* Trade or keep assets from the day, based on affinity score\n",
    "* Trades subtract credit from Customer A\n",
    "* Trades add 80% cash to Customer A\n",
    "* Trades add credit to Customer B\n",
    "* Trades subtract 80% cash from Customer B\n"
   ]
  },
  {
   "cell_type": "code",
   "execution_count": null,
   "metadata": {},
   "outputs": [],
   "source": [
    "def trade_rewards(system):\n",
    "    pass"
   ]
  },
  {
   "cell_type": "markdown",
   "metadata": {},
   "source": [
    "### End Day\n",
    "\n",
    "* If day is Dec 31, terminate simulation\n",
    "* Start Spring Mar 20\n",
    "* Start Summer Jun 21\n",
    "* Start Autumn Sep 23\n",
    "* Start Winter Dec 21"
   ]
  },
  {
   "cell_type": "code",
   "execution_count": null,
   "metadata": {},
   "outputs": [],
   "source": [
    "def end_day(system):\n",
    "    pass"
   ]
  },
  {
   "cell_type": "markdown",
   "metadata": {},
   "source": [
    "### Run Simulation\n",
    "\n",
    "* Initialize system with set parameters\n",
    "* start_day()\n",
    "* conduct_business()\n",
    "* after_hours()\n",
    "* end_day()\n",
    "* return system object"
   ]
  },
  {
   "cell_type": "code",
   "execution_count": 9,
   "metadata": {},
   "outputs": [],
   "source": [
    "def run_simulation(system):\n",
    "    pass"
   ]
  },
  {
   "cell_type": "markdown",
   "metadata": {},
   "source": [
    "### Cost/Benefit Analysis\n",
    "\n",
    "Did customers eat more than they would have otherwise?\n",
    "\n",
    "Did customers spend more than they would have otherwise?\n",
    "\n",
    "What is the optimal reward rate?"
   ]
  },
  {
   "cell_type": "markdown",
   "metadata": {},
   "source": [
    "### Descriptive Graphs\n",
    "\n",
    "Total spent each day\n",
    "\n",
    "Rewards used vs traded over all"
   ]
  }
 ],
 "metadata": {
  "kernelspec": {
   "display_name": "Python 3.9.12 ('base')",
   "language": "python",
   "name": "python3"
  },
  "language_info": {
   "codemirror_mode": {
    "name": "ipython",
    "version": 3
   },
   "file_extension": ".py",
   "mimetype": "text/x-python",
   "name": "python",
   "nbconvert_exporter": "python",
   "pygments_lexer": "ipython3",
   "version": "3.9.12"
  },
  "orig_nbformat": 4,
  "vscode": {
   "interpreter": {
    "hash": "7620178bed642c2dde5be7acf5bacc8060d72c266a8607acfff932cb142e8a45"
   }
  }
 },
 "nbformat": 4,
 "nbformat_minor": 2
}
