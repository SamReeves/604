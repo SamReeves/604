{
 "cells": [
  {
   "cell_type": "markdown",
   "metadata": {},
   "source": [
    "# Sina's Wieners\n",
    "### A Discrete Time Simulation"
   ]
  },
  {
   "cell_type": "code",
   "execution_count": 34,
   "metadata": {},
   "outputs": [],
   "source": [
    "import numpy as np\n",
    "import matplotlib.pyplot as plt\n",
    "import modsim as ms\n",
    "import pandas as pd"
   ]
  },
  {
   "cell_type": "markdown",
   "metadata": {},
   "source": [
    "### Generate 10k Customers\n",
    "\n",
    "Attributes:\n",
    "\n",
    "* Salary\n",
    "* Cash\n",
    "* Credit\n",
    "* Affinity\n",
    "* Seasonality\n",
    "* Willingness\n",
    "\n",
    "The amount of money each is given will be based on an estimated average/mean salary for 2020.  We do not have complete information from later years.  The mean was \\$53,383, and the median \\$34,612.  Theoretically, half of the people should have a salary below the median, and the median and mean should line up.  In reality, this figure is highly skewed:\n",
    "\n",
    "![\"Source: https://www.ssa.gov/OACT/COLA/central.html\"](wages.png)\n",
    "\n",
    "Over time, the pay of management has risen far faster than the pay of \"regular\" employees.  So, for this experiment, we will assume that the hyper rich don't care for hotdogs, and that the median salary is the most realistic for the most people.  Median household salary for 2020 was around \\$67,000 according to the US Census, and the poverty line for a 3-person household was \\$21700 according to the department of Health and Human Services.\n",
    "\n",
    "For simplicity, we will assume salaries for individual customers of Sina's Wieners to be normally distributed, centered around \\$35,000, with a standard deviation of \\$14,000.  We know that reality is much messier than this, but we have to start somewhere.\n",
    "\n",
    "Cash and credit will initialize at zero.\n",
    "\n",
    "The affinity score will range from 0 to 1, again normally distributed around the center of the range.\n",
    "\n",
    "Seasonality will determine the likelihood that an individual's willingness to go outside is affected by the weather.  We will generate this information on an exponential curve with lambda equal to 10. A score closer to zero will mean you don't care how hot or cold it is -- you gotta have those wieners.\n",
    "\n",
    "Finally, we have willingness to download and use the app.  This value is either a 0 or 1.  From 1 January, 10% of the population will be ready to try it.  We will add another 5% of untapped customers on 1 April, 1 July, and 1 October."
   ]
  },
  {
   "cell_type": "code",
   "execution_count": 89,
   "metadata": {},
   "outputs": [],
   "source": [
    "def generate_customer() -> tuple:\n",
    "    \"\"\"\n",
    "    Generate a customer with some randomly generated attributes.\n",
    "    Returns: Tuple with .\n",
    "    \"\"\"\n",
    "    \n",
    "    salary = np.random.normal(loc=35000, scale=14000)\n",
    "    cash = 0\n",
    "    credit = 0\n",
    "    affinity = np.random.normal(loc = 0.5, scale = 0.2)\n",
    "    seasonality = np.random.exponential(scale=0.1)\n",
    "    willingness = 0\n",
    "\n",
    "    return (salary, cash, credit, affinity, seasonality, willingness)\n",
    "    \n",
    "customers = pd.DataFrame(columns=['salary', 'cash', 'credit',\n",
    "                                  'affinity', 'seasonality', 'willingness'])\n",
    "\n",
    "for i in range(10000):\n",
    "    customers.loc[i] = generate_customer()"
   ]
  },
  {
   "cell_type": "markdown",
   "metadata": {},
   "source": [
    "Now, we must give these people some cash to eat hotdogs with for the first 2-week period.  They will get paid on the 1st and 15th of each month, which means this number will be replenished.  The cash will not carry over, but the credit will.\n",
    "\n",
    "Their hotdog money is equal to 5% of the pay received in a pay period.\n",
    "\n",
    "We must also select the people who feel like trying out the app."
   ]
  },
  {
   "cell_type": "code",
   "execution_count": 103,
   "metadata": {},
   "outputs": [
    {
     "data": {
      "text/html": [
       "<div>\n",
       "<style scoped>\n",
       "    .dataframe tbody tr th:only-of-type {\n",
       "        vertical-align: middle;\n",
       "    }\n",
       "\n",
       "    .dataframe tbody tr th {\n",
       "        vertical-align: top;\n",
       "    }\n",
       "\n",
       "    .dataframe thead th {\n",
       "        text-align: right;\n",
       "    }\n",
       "</style>\n",
       "<table border=\"1\" class=\"dataframe\">\n",
       "  <thead>\n",
       "    <tr style=\"text-align: right;\">\n",
       "      <th></th>\n",
       "      <th>salary</th>\n",
       "      <th>cash</th>\n",
       "      <th>credit</th>\n",
       "      <th>affinity</th>\n",
       "      <th>seasonality</th>\n",
       "      <th>willingness</th>\n",
       "    </tr>\n",
       "  </thead>\n",
       "  <tbody>\n",
       "    <tr>\n",
       "      <th>0</th>\n",
       "      <td>32512.964311</td>\n",
       "      <td>62.524931</td>\n",
       "      <td>0.0</td>\n",
       "      <td>0.466393</td>\n",
       "      <td>0.155003</td>\n",
       "      <td>0.0</td>\n",
       "    </tr>\n",
       "    <tr>\n",
       "      <th>1</th>\n",
       "      <td>18215.289433</td>\n",
       "      <td>35.029403</td>\n",
       "      <td>0.0</td>\n",
       "      <td>0.360570</td>\n",
       "      <td>0.162650</td>\n",
       "      <td>0.0</td>\n",
       "    </tr>\n",
       "    <tr>\n",
       "      <th>2</th>\n",
       "      <td>12802.629859</td>\n",
       "      <td>24.620442</td>\n",
       "      <td>0.0</td>\n",
       "      <td>0.412845</td>\n",
       "      <td>0.073244</td>\n",
       "      <td>0.0</td>\n",
       "    </tr>\n",
       "    <tr>\n",
       "      <th>3</th>\n",
       "      <td>17078.492840</td>\n",
       "      <td>32.843255</td>\n",
       "      <td>0.0</td>\n",
       "      <td>0.300103</td>\n",
       "      <td>0.121958</td>\n",
       "      <td>0.0</td>\n",
       "    </tr>\n",
       "    <tr>\n",
       "      <th>4</th>\n",
       "      <td>53948.615168</td>\n",
       "      <td>103.747337</td>\n",
       "      <td>0.0</td>\n",
       "      <td>0.724057</td>\n",
       "      <td>0.220883</td>\n",
       "      <td>0.0</td>\n",
       "    </tr>\n",
       "  </tbody>\n",
       "</table>\n",
       "</div>"
      ],
      "text/plain": [
       "         salary        cash  credit  affinity  seasonality  willingness\n",
       "0  32512.964311   62.524931     0.0  0.466393     0.155003          0.0\n",
       "1  18215.289433   35.029403     0.0  0.360570     0.162650          0.0\n",
       "2  12802.629859   24.620442     0.0  0.412845     0.073244          0.0\n",
       "3  17078.492840   32.843255     0.0  0.300103     0.121958          0.0\n",
       "4  53948.615168  103.747337     0.0  0.724057     0.220883          0.0"
      ]
     },
     "execution_count": 103,
     "metadata": {},
     "output_type": "execute_result"
    }
   ],
   "source": [
    "customers.cash = 0.05 * customers.salary / 26\n",
    "willing = customers.sample(frac = 0.1)\n",
    "willing.willingness = 1\n",
    "customers.update(willing)\n",
    "customers.sample(frac = 0.1)"
   ]
  }
 ],
 "metadata": {
  "kernelspec": {
   "display_name": "Python 3.9.12 ('base')",
   "language": "python",
   "name": "python3"
  },
  "language_info": {
   "codemirror_mode": {
    "name": "ipython",
    "version": 3
   },
   "file_extension": ".py",
   "mimetype": "text/x-python",
   "name": "python",
   "nbconvert_exporter": "python",
   "pygments_lexer": "ipython3",
   "version": "3.9.12"
  },
  "orig_nbformat": 4,
  "vscode": {
   "interpreter": {
    "hash": "7620178bed642c2dde5be7acf5bacc8060d72c266a8607acfff932cb142e8a45"
   }
  }
 },
 "nbformat": 4,
 "nbformat_minor": 2
}
