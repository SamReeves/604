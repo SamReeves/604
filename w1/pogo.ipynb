{
 "cells": [
  {
   "cell_type": "code",
   "execution_count": 8,
   "metadata": {},
   "outputs": [
    {
     "data": {
      "text/plain": [
       "(array([339., 225., 130.,  82.,  76.,  39.,  36.,  34.,  13.,  12.,   7.,\n",
       "          4.,   1.,   1.,   0.,   0.,   0.,   0.,   0.,   1.]),\n",
       " array([  0.  ,   7.65,  15.3 ,  22.95,  30.6 ,  38.25,  45.9 ,  53.55,\n",
       "         61.2 ,  68.85,  76.5 ,  84.15,  91.8 ,  99.45, 107.1 , 114.75,\n",
       "        122.4 , 130.05, 137.7 , 145.35, 153.  ]),\n",
       " <BarContainer object of 20 artists>)"
      ]
     },
     "execution_count": 8,
     "metadata": {},
     "output_type": "execute_result"
    },
    {
     "data": {
      "image/png": "[encoded data removed]",
      "text/plain": [
       "<Figure size 432x288 with 1 Axes>"
      ]
     },
     "metadata": {
      "needs_background": "light"
     },
     "output_type": "display_data"
    }
   ],
   "source": [
    "import numpy as np\n",
    "import matplotlib.pyplot as plt\n",
    "\n",
    "\n",
    "def pogo(p):\n",
    "    arr = [True, False]\n",
    "    prob = [p, 1-p]\n",
    "    jumps = 0\n",
    "    while True:\n",
    "        if np.random.choice(arr, p=prob):\n",
    "            jumps += 1\n",
    "        else:\n",
    "            return jumps\n",
    "\n",
    "\n",
    "def trial_run(n, p):\n",
    "    runs = []\n",
    "    for i in range(n):\n",
    "        runs.append(pogo(p))\n",
    "    return runs\n",
    "\n",
    "data = trial_run(1000, 0.95)\n",
    "plt.hist(data, bins=20)"
   ]
  }
 ],
 "metadata": {
  "interpreter": {
   "hash": "7620178bed642c2dde5be7acf5bacc8060d72c266a8607acfff932cb142e8a45"
  },
  "kernelspec": {
   "display_name": "Python 3.9.12 ('base')",
   "language": "python",
   "name": "python3"
  },
  "language_info": {
   "codemirror_mode": {
    "name": "ipython",
    "version": 3
   },
   "file_extension": ".py",
   "mimetype": "text/x-python",
   "name": "python",
   "nbconvert_exporter": "python",
   "pygments_lexer": "ipython3",
   "version": "3.9.12"
  },
  "orig_nbformat": 4
 },
 "nbformat": 4,
 "nbformat_minor": 2
}
