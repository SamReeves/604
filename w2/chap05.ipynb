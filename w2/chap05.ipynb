{
 "cells": [
  {
   "cell_type": "markdown",
   "metadata": {},
   "source": [
    "# Modeling and Simulation in Python\n",
    "\n",
    "Chapter 5\n",
    "\n",
    "Copyright 2017 Allen Downey\n",
    "\n",
    "License: [Creative Commons Attribution 4.0 International](https://creativecommons.org/licenses/by/4.0)\n"
   ]
  },
  {
   "cell_type": "code",
   "execution_count": 1,
   "metadata": {},
   "outputs": [],
   "source": [
    "# Configure Jupyter so figures appear in the notebook\n",
    "%matplotlib inline\n",
    "\n",
    "# Configure Jupyter to display the assigned value after an assignment\n",
    "%config InteractiveShell.ast_node_interactivity='last_expr_or_assign'\n",
    "\n",
    "# import functions from the modsim.py module\n",
    "from modsim import *"
   ]
  },
  {
   "cell_type": "markdown",
   "metadata": {},
   "source": [
    "## Reading data\n",
    "\n",
    "Pandas is a library that provides tools for reading and processing data.  `read_html` reads a web page from a file or the Internet and creates one `DataFrame` for each table on the page."
   ]
  },
  {
   "cell_type": "code",
   "execution_count": 2,
   "metadata": {},
   "outputs": [],
   "source": [
    "from pandas import read_html"
   ]
  },
  {
   "cell_type": "markdown",
   "metadata": {},
   "source": [
    "The data directory contains a downloaded copy of https://en.wikipedia.org/wiki/World_population_estimates\n",
    "\n",
    "The arguments of `read_html` specify the file to read and how to interpret the tables in the file.  The result, `tables`, is a sequence of `DataFrame` objects; `len(tables)` reports the length of the sequence."
   ]
  },
  {
   "cell_type": "code",
   "execution_count": 3,
   "metadata": {},
   "outputs": [
    {
     "data": {
      "text/plain": [
       "6"
      ]
     },
     "execution_count": 3,
     "metadata": {},
     "output_type": "execute_result"
    }
   ],
   "source": [
    "filename = 'https://en.wikipedia.org/wiki/Estimates_of_historical_world_population'\n",
    "tables = read_html(filename, header=0, index_col=0, decimal='M')\n",
    "len(tables)"
   ]
  },
  {
   "cell_type": "markdown",
   "metadata": {},
   "source": [
    "We can select the `DataFrame` we want using the bracket operator.  The tables are numbered from 0, so `tables[2]` is actually the third table on the page.\n",
    "\n",
    "`head` selects the header and the first five rows."
   ]
  },
  {
   "cell_type": "code",
   "execution_count": 4,
   "metadata": {
    "scrolled": true
   },
   "outputs": [
    {
     "data": {
      "text/html": [
       "<div>\n",
       "<style scoped>\n",
       "    .dataframe tbody tr th:only-of-type {\n",
       "        vertical-align: middle;\n",
       "    }\n",
       "\n",
       "    .dataframe tbody tr th {\n",
       "        vertical-align: top;\n",
       "    }\n",
       "\n",
       "    .dataframe thead th {\n",
       "        text-align: right;\n",
       "    }\n",
       "</style>\n",
       "<table border=\"1\" class=\"dataframe\">\n",
       "  <thead>\n",
       "    <tr style=\"text-align: right;\">\n",
       "      <th></th>\n",
       "      <th>United States Census Bureau (2017)[29]</th>\n",
       "      <th>Population Reference Bureau (1973–2016)[15]</th>\n",
       "      <th>United Nations Department of Economic and Social Affairs (2015)[16]</th>\n",
       "      <th>Maddison (2008)[17]</th>\n",
       "      <th>HYDE (2007)[25]</th>\n",
       "      <th>Tanton (1994)[19]</th>\n",
       "      <th>Biraben (1980)[20]</th>\n",
       "      <th>McEvedy &amp; Jones (1978)[21]</th>\n",
       "      <th>Thomlinson (1975)[22]</th>\n",
       "      <th>Durand (1974)[23]</th>\n",
       "      <th>Clark (1967)[24]</th>\n",
       "    </tr>\n",
       "    <tr>\n",
       "      <th>Year</th>\n",
       "      <th></th>\n",
       "      <th></th>\n",
       "      <th></th>\n",
       "      <th></th>\n",
       "      <th></th>\n",
       "      <th></th>\n",
       "      <th></th>\n",
       "      <th></th>\n",
       "      <th></th>\n",
       "      <th></th>\n",
       "      <th></th>\n",
       "    </tr>\n",
       "  </thead>\n",
       "  <tbody>\n",
       "    <tr>\n",
       "      <th>1950</th>\n",
       "      <td>2557628654</td>\n",
       "      <td>2.516000e+09</td>\n",
       "      <td>2.525149e+09</td>\n",
       "      <td>2.544000e+09</td>\n",
       "      <td>2.527960e+09</td>\n",
       "      <td>2.400000e+09</td>\n",
       "      <td>2.527000e+09</td>\n",
       "      <td>2.500000e+09</td>\n",
       "      <td>2.400000e+09</td>\n",
       "      <td>NaN</td>\n",
       "      <td>2.486000e+09</td>\n",
       "    </tr>\n",
       "    <tr>\n",
       "      <th>1951</th>\n",
       "      <td>2594939877</td>\n",
       "      <td>NaN</td>\n",
       "      <td>2.572851e+09</td>\n",
       "      <td>2.571663e+09</td>\n",
       "      <td>NaN</td>\n",
       "      <td>NaN</td>\n",
       "      <td>NaN</td>\n",
       "      <td>NaN</td>\n",
       "      <td>NaN</td>\n",
       "      <td>NaN</td>\n",
       "      <td>NaN</td>\n",
       "    </tr>\n",
       "    <tr>\n",
       "      <th>1952</th>\n",
       "      <td>2636772306</td>\n",
       "      <td>NaN</td>\n",
       "      <td>2.619292e+09</td>\n",
       "      <td>2.617949e+09</td>\n",
       "      <td>NaN</td>\n",
       "      <td>NaN</td>\n",
       "      <td>NaN</td>\n",
       "      <td>NaN</td>\n",
       "      <td>NaN</td>\n",
       "      <td>NaN</td>\n",
       "      <td>NaN</td>\n",
       "    </tr>\n",
       "    <tr>\n",
       "      <th>1953</th>\n",
       "      <td>2682053389</td>\n",
       "      <td>NaN</td>\n",
       "      <td>2.665865e+09</td>\n",
       "      <td>2.665959e+09</td>\n",
       "      <td>NaN</td>\n",
       "      <td>NaN</td>\n",
       "      <td>NaN</td>\n",
       "      <td>NaN</td>\n",
       "      <td>NaN</td>\n",
       "      <td>NaN</td>\n",
       "      <td>NaN</td>\n",
       "    </tr>\n",
       "    <tr>\n",
       "      <th>1954</th>\n",
       "      <td>2730228104</td>\n",
       "      <td>NaN</td>\n",
       "      <td>2.713172e+09</td>\n",
       "      <td>2.716927e+09</td>\n",
       "      <td>NaN</td>\n",
       "      <td>NaN</td>\n",
       "      <td>NaN</td>\n",
       "      <td>NaN</td>\n",
       "      <td>NaN</td>\n",
       "      <td>NaN</td>\n",
       "      <td>NaN</td>\n",
       "    </tr>\n",
       "  </tbody>\n",
       "</table>\n",
       "</div>"
      ],
      "text/plain": [
       "      United States Census Bureau (2017)[29]  \\\n",
       "Year                                           \n",
       "1950                              2557628654   \n",
       "1951                              2594939877   \n",
       "1952                              2636772306   \n",
       "1953                              2682053389   \n",
       "1954                              2730228104   \n",
       "\n",
       "      Population Reference Bureau (1973–2016)[15]  \\\n",
       "Year                                                \n",
       "1950                                 2.516000e+09   \n",
       "1951                                          NaN   \n",
       "1952                                          NaN   \n",
       "1953                                          NaN   \n",
       "1954                                          NaN   \n",
       "\n",
       "      United Nations Department of Economic and Social Affairs (2015)[16]  \\\n",
       "Year                                                                        \n",
       "1950                                       2.525149e+09                     \n",
       "1951                                       2.572851e+09                     \n",
       "1952                                       2.619292e+09                     \n",
       "1953                                       2.665865e+09                     \n",
       "1954                                       2.713172e+09                     \n",
       "\n",
       "      Maddison (2008)[17]  HYDE (2007)[25]  Tanton (1994)[19]  \\\n",
       "Year                                                            \n",
       "1950         2.544000e+09     2.527960e+09       2.400000e+09   \n",
       "1951         2.571663e+09              NaN                NaN   \n",
       "1952         2.617949e+09              NaN                NaN   \n",
       "1953         2.665959e+09              NaN                NaN   \n",
       "1954         2.716927e+09              NaN                NaN   \n",
       "\n",
       "      Biraben (1980)[20]  McEvedy & Jones (1978)[21]  Thomlinson (1975)[22]  \\\n",
       "Year                                                                          \n",
       "1950        2.527000e+09                2.500000e+09           2.400000e+09   \n",
       "1951                 NaN                         NaN                    NaN   \n",
       "1952                 NaN                         NaN                    NaN   \n",
       "1953                 NaN                         NaN                    NaN   \n",
       "1954                 NaN                         NaN                    NaN   \n",
       "\n",
       "     Durand (1974)[23]  Clark (1967)[24]  \n",
       "Year                                      \n",
       "1950               NaN      2.486000e+09  \n",
       "1951               NaN               NaN  \n",
       "1952               NaN               NaN  \n",
       "1953               NaN               NaN  \n",
       "1954               NaN               NaN  "
      ]
     },
     "execution_count": 4,
     "metadata": {},
     "output_type": "execute_result"
    }
   ],
   "source": [
    "table2 = tables[2]\n",
    "table2.head()"
   ]
  },
  {
   "cell_type": "markdown",
   "metadata": {},
   "source": [
    "`tail` selects the last five rows."
   ]
  },
  {
   "cell_type": "code",
   "execution_count": 5,
   "metadata": {},
   "outputs": [
    {
     "data": {
      "text/html": [
       "<div>\n",
       "<style scoped>\n",
       "    .dataframe tbody tr th:only-of-type {\n",
       "        vertical-align: middle;\n",
       "    }\n",
       "\n",
       "    .dataframe tbody tr th {\n",
       "        vertical-align: top;\n",
       "    }\n",
       "\n",
       "    .dataframe thead th {\n",
       "        text-align: right;\n",
       "    }\n",
       "</style>\n",
       "<table border=\"1\" class=\"dataframe\">\n",
       "  <thead>\n",
       "    <tr style=\"text-align: right;\">\n",
       "      <th></th>\n",
       "      <th>United States Census Bureau (2017)[29]</th>\n",
       "      <th>Population Reference Bureau (1973–2016)[15]</th>\n",
       "      <th>United Nations Department of Economic and Social Affairs (2015)[16]</th>\n",
       "      <th>Maddison (2008)[17]</th>\n",
       "      <th>HYDE (2007)[25]</th>\n",
       "      <th>Tanton (1994)[19]</th>\n",
       "      <th>Biraben (1980)[20]</th>\n",
       "      <th>McEvedy &amp; Jones (1978)[21]</th>\n",
       "      <th>Thomlinson (1975)[22]</th>\n",
       "      <th>Durand (1974)[23]</th>\n",
       "      <th>Clark (1967)[24]</th>\n",
       "    </tr>\n",
       "    <tr>\n",
       "      <th>Year</th>\n",
       "      <th></th>\n",
       "      <th></th>\n",
       "      <th></th>\n",
       "      <th></th>\n",
       "      <th></th>\n",
       "      <th></th>\n",
       "      <th></th>\n",
       "      <th></th>\n",
       "      <th></th>\n",
       "      <th></th>\n",
       "      <th></th>\n",
       "    </tr>\n",
       "  </thead>\n",
       "  <tbody>\n",
       "    <tr>\n",
       "      <th>2012</th>\n",
       "      <td>7013871313</td>\n",
       "      <td>7.057075e+09</td>\n",
       "      <td>7.080072e+09</td>\n",
       "      <td>NaN</td>\n",
       "      <td>NaN</td>\n",
       "      <td>NaN</td>\n",
       "      <td>NaN</td>\n",
       "      <td>NaN</td>\n",
       "      <td>NaN</td>\n",
       "      <td>NaN</td>\n",
       "      <td>NaN</td>\n",
       "    </tr>\n",
       "    <tr>\n",
       "      <th>2013</th>\n",
       "      <td>7092128094</td>\n",
       "      <td>7.136796e+09</td>\n",
       "      <td>7.162119e+09</td>\n",
       "      <td>NaN</td>\n",
       "      <td>NaN</td>\n",
       "      <td>NaN</td>\n",
       "      <td>NaN</td>\n",
       "      <td>NaN</td>\n",
       "      <td>NaN</td>\n",
       "      <td>NaN</td>\n",
       "      <td>NaN</td>\n",
       "    </tr>\n",
       "    <tr>\n",
       "      <th>2014</th>\n",
       "      <td>7169968185</td>\n",
       "      <td>7.238184e+09</td>\n",
       "      <td>7.243784e+09</td>\n",
       "      <td>NaN</td>\n",
       "      <td>NaN</td>\n",
       "      <td>NaN</td>\n",
       "      <td>NaN</td>\n",
       "      <td>NaN</td>\n",
       "      <td>NaN</td>\n",
       "      <td>NaN</td>\n",
       "      <td>NaN</td>\n",
       "    </tr>\n",
       "    <tr>\n",
       "      <th>2015</th>\n",
       "      <td>7247892788</td>\n",
       "      <td>7.336435e+09</td>\n",
       "      <td>7.349472e+09</td>\n",
       "      <td>NaN</td>\n",
       "      <td>NaN</td>\n",
       "      <td>NaN</td>\n",
       "      <td>NaN</td>\n",
       "      <td>NaN</td>\n",
       "      <td>NaN</td>\n",
       "      <td>NaN</td>\n",
       "      <td>NaN</td>\n",
       "    </tr>\n",
       "    <tr>\n",
       "      <th>2016</th>\n",
       "      <td>7325996709</td>\n",
       "      <td>7.418152e+09</td>\n",
       "      <td>NaN</td>\n",
       "      <td>NaN</td>\n",
       "      <td>NaN</td>\n",
       "      <td>NaN</td>\n",
       "      <td>NaN</td>\n",
       "      <td>NaN</td>\n",
       "      <td>NaN</td>\n",
       "      <td>NaN</td>\n",
       "      <td>NaN</td>\n",
       "    </tr>\n",
       "  </tbody>\n",
       "</table>\n",
       "</div>"
      ],
      "text/plain": [
       "      United States Census Bureau (2017)[29]  \\\n",
       "Year                                           \n",
       "2012                              7013871313   \n",
       "2013                              7092128094   \n",
       "2014                              7169968185   \n",
       "2015                              7247892788   \n",
       "2016                              7325996709   \n",
       "\n",
       "      Population Reference Bureau (1973–2016)[15]  \\\n",
       "Year                                                \n",
       "2012                                 7.057075e+09   \n",
       "2013                                 7.136796e+09   \n",
       "2014                                 7.238184e+09   \n",
       "2015                                 7.336435e+09   \n",
       "2016                                 7.418152e+09   \n",
       "\n",
       "      United Nations Department of Economic and Social Affairs (2015)[16]  \\\n",
       "Year                                                                        \n",
       "2012                                       7.080072e+09                     \n",
       "2013                                       7.162119e+09                     \n",
       "2014                                       7.243784e+09                     \n",
       "2015                                       7.349472e+09                     \n",
       "2016                                                NaN                     \n",
       "\n",
       "      Maddison (2008)[17]  HYDE (2007)[25]  Tanton (1994)[19]  \\\n",
       "Year                                                            \n",
       "2012                  NaN              NaN                NaN   \n",
       "2013                  NaN              NaN                NaN   \n",
       "2014                  NaN              NaN                NaN   \n",
       "2015                  NaN              NaN                NaN   \n",
       "2016                  NaN              NaN                NaN   \n",
       "\n",
       "      Biraben (1980)[20]  McEvedy & Jones (1978)[21]  Thomlinson (1975)[22]  \\\n",
       "Year                                                                          \n",
       "2012                 NaN                         NaN                    NaN   \n",
       "2013                 NaN                         NaN                    NaN   \n",
       "2014                 NaN                         NaN                    NaN   \n",
       "2015                 NaN                         NaN                    NaN   \n",
       "2016                 NaN                         NaN                    NaN   \n",
       "\n",
       "     Durand (1974)[23]  Clark (1967)[24]  \n",
       "Year                                      \n",
       "2012               NaN               NaN  \n",
       "2013               NaN               NaN  \n",
       "2014               NaN               NaN  \n",
       "2015               NaN               NaN  \n",
       "2016               NaN               NaN  "
      ]
     },
     "execution_count": 5,
     "metadata": {},
     "output_type": "execute_result"
    }
   ],
   "source": [
    "table2.tail()"
   ]
  },
  {
   "cell_type": "markdown",
   "metadata": {},
   "source": [
    "Long column names are awkard to work with, but we can replace them with abbreviated names."
   ]
  },
  {
   "cell_type": "code",
   "execution_count": 6,
   "metadata": {},
   "outputs": [],
   "source": [
    "table2.columns = ['census', 'prb', 'un', 'maddison', \n",
    "                  'hyde', 'tanton', 'biraben', 'mj', \n",
    "                  'thomlinson', 'durand', 'clark']"
   ]
  },
  {
   "cell_type": "markdown",
   "metadata": {},
   "source": [
    "Here's what the DataFrame looks like now.  "
   ]
  },
  {
   "cell_type": "code",
   "execution_count": 7,
   "metadata": {},
   "outputs": [
    {
     "data": {
      "text/html": [
       "<div>\n",
       "<style scoped>\n",
       "    .dataframe tbody tr th:only-of-type {\n",
       "        vertical-align: middle;\n",
       "    }\n",
       "\n",
       "    .dataframe tbody tr th {\n",
       "        vertical-align: top;\n",
       "    }\n",
       "\n",
       "    .dataframe thead th {\n",
       "        text-align: right;\n",
       "    }\n",
       "</style>\n",
       "<table border=\"1\" class=\"dataframe\">\n",
       "  <thead>\n",
       "    <tr style=\"text-align: right;\">\n",
       "      <th></th>\n",
       "      <th>census</th>\n",
       "      <th>prb</th>\n",
       "      <th>un</th>\n",
       "      <th>maddison</th>\n",
       "      <th>hyde</th>\n",
       "      <th>tanton</th>\n",
       "      <th>biraben</th>\n",
       "      <th>mj</th>\n",
       "      <th>thomlinson</th>\n",
       "      <th>durand</th>\n",
       "      <th>clark</th>\n",
       "    </tr>\n",
       "    <tr>\n",
       "      <th>Year</th>\n",
       "      <th></th>\n",
       "      <th></th>\n",
       "      <th></th>\n",
       "      <th></th>\n",
       "      <th></th>\n",
       "      <th></th>\n",
       "      <th></th>\n",
       "      <th></th>\n",
       "      <th></th>\n",
       "      <th></th>\n",
       "      <th></th>\n",
       "    </tr>\n",
       "  </thead>\n",
       "  <tbody>\n",
       "    <tr>\n",
       "      <th>1950</th>\n",
       "      <td>2557628654</td>\n",
       "      <td>2.516000e+09</td>\n",
       "      <td>2.525149e+09</td>\n",
       "      <td>2.544000e+09</td>\n",
       "      <td>2.527960e+09</td>\n",
       "      <td>2.400000e+09</td>\n",
       "      <td>2.527000e+09</td>\n",
       "      <td>2.500000e+09</td>\n",
       "      <td>2.400000e+09</td>\n",
       "      <td>NaN</td>\n",
       "      <td>2.486000e+09</td>\n",
       "    </tr>\n",
       "    <tr>\n",
       "      <th>1951</th>\n",
       "      <td>2594939877</td>\n",
       "      <td>NaN</td>\n",
       "      <td>2.572851e+09</td>\n",
       "      <td>2.571663e+09</td>\n",
       "      <td>NaN</td>\n",
       "      <td>NaN</td>\n",
       "      <td>NaN</td>\n",
       "      <td>NaN</td>\n",
       "      <td>NaN</td>\n",
       "      <td>NaN</td>\n",
       "      <td>NaN</td>\n",
       "    </tr>\n",
       "    <tr>\n",
       "      <th>1952</th>\n",
       "      <td>2636772306</td>\n",
       "      <td>NaN</td>\n",
       "      <td>2.619292e+09</td>\n",
       "      <td>2.617949e+09</td>\n",
       "      <td>NaN</td>\n",
       "      <td>NaN</td>\n",
       "      <td>NaN</td>\n",
       "      <td>NaN</td>\n",
       "      <td>NaN</td>\n",
       "      <td>NaN</td>\n",
       "      <td>NaN</td>\n",
       "    </tr>\n",
       "    <tr>\n",
       "      <th>1953</th>\n",
       "      <td>2682053389</td>\n",
       "      <td>NaN</td>\n",
       "      <td>2.665865e+09</td>\n",
       "      <td>2.665959e+09</td>\n",
       "      <td>NaN</td>\n",
       "      <td>NaN</td>\n",
       "      <td>NaN</td>\n",
       "      <td>NaN</td>\n",
       "      <td>NaN</td>\n",
       "      <td>NaN</td>\n",
       "      <td>NaN</td>\n",
       "    </tr>\n",
       "    <tr>\n",
       "      <th>1954</th>\n",
       "      <td>2730228104</td>\n",
       "      <td>NaN</td>\n",
       "      <td>2.713172e+09</td>\n",
       "      <td>2.716927e+09</td>\n",
       "      <td>NaN</td>\n",
       "      <td>NaN</td>\n",
       "      <td>NaN</td>\n",
       "      <td>NaN</td>\n",
       "      <td>NaN</td>\n",
       "      <td>NaN</td>\n",
       "      <td>NaN</td>\n",
       "    </tr>\n",
       "  </tbody>\n",
       "</table>\n",
       "</div>"
      ],
      "text/plain": [
       "          census           prb            un      maddison          hyde  \\\n",
       "Year                                                                       \n",
       "1950  2557628654  2.516000e+09  2.525149e+09  2.544000e+09  2.527960e+09   \n",
       "1951  2594939877           NaN  2.572851e+09  2.571663e+09           NaN   \n",
       "1952  2636772306           NaN  2.619292e+09  2.617949e+09           NaN   \n",
       "1953  2682053389           NaN  2.665865e+09  2.665959e+09           NaN   \n",
       "1954  2730228104           NaN  2.713172e+09  2.716927e+09           NaN   \n",
       "\n",
       "            tanton       biraben            mj    thomlinson durand  \\\n",
       "Year                                                                  \n",
       "1950  2.400000e+09  2.527000e+09  2.500000e+09  2.400000e+09    NaN   \n",
       "1951           NaN           NaN           NaN           NaN    NaN   \n",
       "1952           NaN           NaN           NaN           NaN    NaN   \n",
       "1953           NaN           NaN           NaN           NaN    NaN   \n",
       "1954           NaN           NaN           NaN           NaN    NaN   \n",
       "\n",
       "             clark  \n",
       "Year                \n",
       "1950  2.486000e+09  \n",
       "1951           NaN  \n",
       "1952           NaN  \n",
       "1953           NaN  \n",
       "1954           NaN  "
      ]
     },
     "execution_count": 7,
     "metadata": {},
     "output_type": "execute_result"
    }
   ],
   "source": [
    "table2.head()"
   ]
  },
  {
   "cell_type": "markdown",
   "metadata": {},
   "source": [
    "The first column, which is labeled `Year`, is special.  It is the **index** for this `DataFrame`, which means it contains the labels for the rows.\n",
    "\n",
    "Some of the values use scientific notation; for example, `2.544000e+09` is shorthand for $2.544 \\cdot 10^9$ or 2.544 billion.\n",
    "\n",
    "`NaN` is a special value that indicates missing data."
   ]
  },
  {
   "cell_type": "markdown",
   "metadata": {},
   "source": [
    "### Series\n",
    "\n",
    "We can use dot notation to select a column from a `DataFrame`.  The result is a `Series`, which is like a `DataFrame` with a single column."
   ]
  },
  {
   "cell_type": "code",
   "execution_count": 8,
   "metadata": {},
   "outputs": [
    {
     "data": {
      "text/plain": [
       "Year\n",
       "1950    2557628654\n",
       "1951    2594939877\n",
       "1952    2636772306\n",
       "1953    2682053389\n",
       "1954    2730228104\n",
       "Name: census, dtype: int64"
      ]
     },
     "execution_count": 8,
     "metadata": {},
     "output_type": "execute_result"
    }
   ],
   "source": [
    "census = table2.census\n",
    "census.head()"
   ]
  },
  {
   "cell_type": "code",
   "execution_count": 9,
   "metadata": {},
   "outputs": [
    {
     "data": {
      "text/plain": [
       "Year\n",
       "2012    7013871313\n",
       "2013    7092128094\n",
       "2014    7169968185\n",
       "2015    7247892788\n",
       "2016    7325996709\n",
       "Name: census, dtype: int64"
      ]
     },
     "execution_count": 9,
     "metadata": {},
     "output_type": "execute_result"
    }
   ],
   "source": [
    "census.tail()"
   ]
  },
  {
   "cell_type": "markdown",
   "metadata": {},
   "source": [
    "Like a `DataFrame`, a `Series` contains an index, which labels the rows.\n",
    "\n",
    "`1e9` is scientific notation for $1 \\cdot 10^9$ or 1 billion."
   ]
  },
  {
   "cell_type": "markdown",
   "metadata": {},
   "source": [
    "From here on, we will work in units of billions."
   ]
  },
  {
   "cell_type": "code",
   "execution_count": 10,
   "metadata": {},
   "outputs": [
    {
     "data": {
      "text/plain": [
       "Year\n",
       "1950    2.525149\n",
       "1951    2.572851\n",
       "1952    2.619292\n",
       "1953    2.665865\n",
       "1954    2.713172\n",
       "Name: un, dtype: float64"
      ]
     },
     "execution_count": 10,
     "metadata": {},
     "output_type": "execute_result"
    }
   ],
   "source": [
    "un = table2.un / 1e9\n",
    "un.head()"
   ]
  },
  {
   "cell_type": "code",
   "execution_count": 11,
   "metadata": {},
   "outputs": [
    {
     "data": {
      "text/plain": [
       "Year\n",
       "1950    2.557629\n",
       "1951    2.594940\n",
       "1952    2.636772\n",
       "1953    2.682053\n",
       "1954    2.730228\n",
       "Name: census, dtype: float64"
      ]
     },
     "execution_count": 11,
     "metadata": {},
     "output_type": "execute_result"
    }
   ],
   "source": [
    "census = table2.census / 1e9\n",
    "census.head()"
   ]
  },
  {
   "cell_type": "markdown",
   "metadata": {},
   "source": [
    "Here's what these estimates look like."
   ]
  },
  {
   "cell_type": "code",
   "execution_count": 12,
   "metadata": {
    "scrolled": false
   },
   "outputs": [
    {
     "name": "stdout",
     "output_type": "stream",
     "text": [
      "Saving figure to file chap05-fig01.pdf\n"
     ]
    },
    {
     "data": {
      "image/png": "[encoded data removed]",
      "text/plain": [
       "<Figure size 432x288 with 1 Axes>"
      ]
     },
     "metadata": {},
     "output_type": "display_data"
    }
   ],
   "source": [
    "plot(census, ':', label='US Census')\n",
    "plot(un, '--', label='UN DESA')\n",
    "    \n",
    "decorate(xlabel='Year',\n",
    "         ylabel='World population (billion)')\n",
    "\n",
    "savefig('chap05-fig01.pdf')"
   ]
  },
  {
   "cell_type": "markdown",
   "metadata": {},
   "source": [
    "The following expression computes the elementwise differences between the two series, then divides through by the UN value to produce [relative errors](https://en.wikipedia.org/wiki/Approximation_error), then finds the largest element.\n",
    "\n",
    "So the largest relative error between the estimates is about 1.3%."
   ]
  },
  {
   "cell_type": "code",
   "execution_count": 13,
   "metadata": {},
   "outputs": [
    {
     "data": {
      "text/plain": [
       "1.3821293828998855"
      ]
     },
     "execution_count": 13,
     "metadata": {},
     "output_type": "execute_result"
    }
   ],
   "source": [
    "max(abs(census - un) / un) * 100"
   ]
  },
  {
   "cell_type": "markdown",
   "metadata": {},
   "source": [
    "**Exercise:** Break down that expression into smaller steps and display the intermediate results, to make sure you understand how it works.\n",
    "\n",
    "1.  Compute the elementwise differences, `census - un`\n",
    "2.  Compute the absolute differences, `abs(census - un)`\n",
    "3.  Compute the relative differences, `abs(census - un) / un`\n",
    "4.  Compute the percent differences, `abs(census - un) / un * 100`\n"
   ]
  },
  {
   "cell_type": "code",
   "execution_count": 14,
   "metadata": {
    "scrolled": true
   },
   "outputs": [
    {
     "data": {
      "text/plain": [
       "Year\n",
       "1950    0.032480\n",
       "1951    0.022089\n",
       "1952    0.017480\n",
       "1953    0.016188\n",
       "1954    0.017056\n",
       "          ...   \n",
       "2012   -0.066201\n",
       "2013   -0.069991\n",
       "2014   -0.073816\n",
       "2015   -0.101579\n",
       "2016         NaN\n",
       "Length: 67, dtype: float64"
      ]
     },
     "execution_count": 14,
     "metadata": {},
     "output_type": "execute_result"
    }
   ],
   "source": [
    "census - un"
   ]
  },
  {
   "cell_type": "code",
   "execution_count": 15,
   "metadata": {
    "scrolled": true
   },
   "outputs": [
    {
     "data": {
      "text/plain": [
       "Year\n",
       "1950    0.032480\n",
       "1951    0.022089\n",
       "1952    0.017480\n",
       "1953    0.016188\n",
       "1954    0.017056\n",
       "          ...   \n",
       "2012    0.066201\n",
       "2013    0.069991\n",
       "2014    0.073816\n",
       "2015    0.101579\n",
       "2016         NaN\n",
       "Length: 67, dtype: float64"
      ]
     },
     "execution_count": 15,
     "metadata": {},
     "output_type": "execute_result"
    }
   ],
   "source": [
    "abs(census - un)"
   ]
  },
  {
   "cell_type": "code",
   "execution_count": 16,
   "metadata": {
    "scrolled": true
   },
   "outputs": [
    {
     "data": {
      "text/plain": [
       "Year\n",
       "1950    0.012862\n",
       "1951    0.008585\n",
       "1952    0.006674\n",
       "1953    0.006072\n",
       "1954    0.006286\n",
       "          ...   \n",
       "2012    0.009350\n",
       "2013    0.009772\n",
       "2014    0.010190\n",
       "2015    0.013821\n",
       "2016         NaN\n",
       "Length: 67, dtype: float64"
      ]
     },
     "execution_count": 16,
     "metadata": {},
     "output_type": "execute_result"
    }
   ],
   "source": [
    "abs(census - un) / un"
   ]
  },
  {
   "cell_type": "code",
   "execution_count": 17,
   "metadata": {},
   "outputs": [
    {
     "data": {
      "text/plain": [
       "Year\n",
       "1950    1.286247\n",
       "1951    0.858540\n",
       "1952    0.667365\n",
       "1953    0.607232\n",
       "1954    0.628640\n",
       "          ...   \n",
       "2012    0.935034\n",
       "2013    0.977243\n",
       "2014    1.019023\n",
       "2015    1.382129\n",
       "2016         NaN\n",
       "Length: 67, dtype: float64"
      ]
     },
     "execution_count": 17,
     "metadata": {},
     "output_type": "execute_result"
    }
   ],
   "source": [
    "abs(census - un) / un * 100"
   ]
  },
  {
   "cell_type": "markdown",
   "metadata": {},
   "source": [
    "`max` and `abs` are built-in functions provided by Python, but NumPy also provides version that are a little more general.  When you import `modsim`, you get the NumPy versions of these functions."
   ]
  },
  {
   "cell_type": "markdown",
   "metadata": {},
   "source": [
    "### Constant growth"
   ]
  },
  {
   "cell_type": "markdown",
   "metadata": {},
   "source": [
    "We can select a value from a `Series` using bracket notation.  Here's the first element:"
   ]
  },
  {
   "cell_type": "code",
   "execution_count": 18,
   "metadata": {},
   "outputs": [
    {
     "data": {
      "text/plain": [
       "2.557628654"
      ]
     },
     "execution_count": 18,
     "metadata": {},
     "output_type": "execute_result"
    }
   ],
   "source": [
    "census[1950]"
   ]
  },
  {
   "cell_type": "markdown",
   "metadata": {},
   "source": [
    "And the last value."
   ]
  },
  {
   "cell_type": "code",
   "execution_count": 19,
   "metadata": {},
   "outputs": [
    {
     "data": {
      "text/plain": [
       "7.325996709"
      ]
     },
     "execution_count": 19,
     "metadata": {},
     "output_type": "execute_result"
    }
   ],
   "source": [
    "census[2016]"
   ]
  },
  {
   "cell_type": "markdown",
   "metadata": {},
   "source": [
    "But rather than \"hard code\" those dates, we can get the first and last labels from the `Series`:"
   ]
  },
  {
   "cell_type": "code",
   "execution_count": 20,
   "metadata": {},
   "outputs": [
    {
     "data": {
      "text/plain": [
       "1950"
      ]
     },
     "execution_count": 20,
     "metadata": {},
     "output_type": "execute_result"
    }
   ],
   "source": [
    "t_0 = get_first_label(census)"
   ]
  },
  {
   "cell_type": "code",
   "execution_count": 21,
   "metadata": {},
   "outputs": [
    {
     "data": {
      "text/plain": [
       "2016"
      ]
     },
     "execution_count": 21,
     "metadata": {},
     "output_type": "execute_result"
    }
   ],
   "source": [
    "t_end = get_last_label(census)"
   ]
  },
  {
   "cell_type": "code",
   "execution_count": 22,
   "metadata": {},
   "outputs": [
    {
     "data": {
      "text/plain": [
       "66"
      ]
     },
     "execution_count": 22,
     "metadata": {},
     "output_type": "execute_result"
    }
   ],
   "source": [
    "elapsed_time = t_end - t_0"
   ]
  },
  {
   "cell_type": "markdown",
   "metadata": {},
   "source": [
    "And we can get the first and last values:"
   ]
  },
  {
   "cell_type": "code",
   "execution_count": 23,
   "metadata": {},
   "outputs": [
    {
     "data": {
      "text/plain": [
       "2.557628654"
      ]
     },
     "execution_count": 23,
     "metadata": {},
     "output_type": "execute_result"
    }
   ],
   "source": [
    "p_0 = get_first_value(census)"
   ]
  },
  {
   "cell_type": "code",
   "execution_count": 24,
   "metadata": {},
   "outputs": [
    {
     "data": {
      "text/plain": [
       "7.325996709"
      ]
     },
     "execution_count": 24,
     "metadata": {},
     "output_type": "execute_result"
    }
   ],
   "source": [
    "p_end = get_last_value(census)"
   ]
  },
  {
   "cell_type": "markdown",
   "metadata": {},
   "source": [
    "Then we can compute the average annual growth in billions of people per year."
   ]
  },
  {
   "cell_type": "code",
   "execution_count": 25,
   "metadata": {},
   "outputs": [
    {
     "data": {
      "text/plain": [
       "4.768368055"
      ]
     },
     "execution_count": 25,
     "metadata": {},
     "output_type": "execute_result"
    }
   ],
   "source": [
    "total_growth = p_end - p_0"
   ]
  },
  {
   "cell_type": "code",
   "execution_count": 26,
   "metadata": {},
   "outputs": [
    {
     "data": {
      "text/plain": [
       "0.07224800083333333"
      ]
     },
     "execution_count": 26,
     "metadata": {},
     "output_type": "execute_result"
    }
   ],
   "source": [
    "annual_growth = total_growth / elapsed_time"
   ]
  },
  {
   "cell_type": "markdown",
   "metadata": {},
   "source": [
    "### TimeSeries"
   ]
  },
  {
   "cell_type": "markdown",
   "metadata": {},
   "source": [
    "Now let's create a `TimeSeries` to contain values generated by a linear growth model."
   ]
  },
  {
   "cell_type": "code",
   "execution_count": 27,
   "metadata": {},
   "outputs": [
    {
     "data": {
      "text/html": [
       "<div>\n",
       "<style scoped>\n",
       "    .dataframe tbody tr th:only-of-type {\n",
       "        vertical-align: middle;\n",
       "    }\n",
       "\n",
       "    .dataframe tbody tr th {\n",
       "        vertical-align: top;\n",
       "    }\n",
       "\n",
       "    .dataframe thead th {\n",
       "        text-align: right;\n",
       "    }\n",
       "</style>\n",
       "<table border=\"1\" class=\"dataframe\">\n",
       "  <thead>\n",
       "    <tr style=\"text-align: right;\">\n",
       "      <th></th>\n",
       "      <th>values</th>\n",
       "    </tr>\n",
       "  </thead>\n",
       "  <tbody>\n",
       "  </tbody>\n",
       "</table>\n",
       "</div>"
      ],
      "text/plain": [
       "TimeSeries([], dtype: float64)"
      ]
     },
     "execution_count": 27,
     "metadata": {},
     "output_type": "execute_result"
    }
   ],
   "source": [
    "results = TimeSeries()"
   ]
  },
  {
   "cell_type": "markdown",
   "metadata": {},
   "source": [
    "Initially the `TimeSeries` is empty, but we can initialize it so the starting value, in 1950, is the 1950 population estimated by the US Census."
   ]
  },
  {
   "cell_type": "code",
   "execution_count": 28,
   "metadata": {},
   "outputs": [
    {
     "data": {
      "text/html": [
       "<div>\n",
       "<style scoped>\n",
       "    .dataframe tbody tr th:only-of-type {\n",
       "        vertical-align: middle;\n",
       "    }\n",
       "\n",
       "    .dataframe tbody tr th {\n",
       "        vertical-align: top;\n",
       "    }\n",
       "\n",
       "    .dataframe thead th {\n",
       "        text-align: right;\n",
       "    }\n",
       "</style>\n",
       "<table border=\"1\" class=\"dataframe\">\n",
       "  <thead>\n",
       "    <tr style=\"text-align: right;\">\n",
       "      <th></th>\n",
       "      <th>values</th>\n",
       "    </tr>\n",
       "  </thead>\n",
       "  <tbody>\n",
       "    <tr>\n",
       "      <th>1950</th>\n",
       "      <td>2.557629</td>\n",
       "    </tr>\n",
       "  </tbody>\n",
       "</table>\n",
       "</div>"
      ],
      "text/plain": [
       "1950    2.557629\n",
       "dtype: float64"
      ]
     },
     "execution_count": 28,
     "metadata": {},
     "output_type": "execute_result"
    }
   ],
   "source": [
    "results[t_0] = census[t_0]\n",
    "results"
   ]
  },
  {
   "cell_type": "markdown",
   "metadata": {},
   "source": [
    "After that, the population in the model grows by a constant amount each year."
   ]
  },
  {
   "cell_type": "code",
   "execution_count": 29,
   "metadata": {},
   "outputs": [],
   "source": [
    "for t in linrange(t_0, t_end):\n",
    "    results[t+1] = results[t] + annual_growth"
   ]
  },
  {
   "cell_type": "markdown",
   "metadata": {},
   "source": [
    "Here's what the results looks like, compared to the actual data."
   ]
  },
  {
   "cell_type": "code",
   "execution_count": 30,
   "metadata": {},
   "outputs": [
    {
     "name": "stdout",
     "output_type": "stream",
     "text": [
      "Saving figure to file chap05-fig02.pdf\n"
     ]
    },
    {
     "data": {
      "image/png": "[encoded data removed]",
      "text/plain": [
       "<Figure size 432x288 with 1 Axes>"
      ]
     },
     "metadata": {},
     "output_type": "display_data"
    }
   ],
   "source": [
    "plot(census, ':', label='US Census')\n",
    "plot(un, '--', label='UN DESA')\n",
    "plot(results, color='gray', label='model')\n",
    "\n",
    "decorate(xlabel='Year', \n",
    "         ylabel='World population (billion)',\n",
    "         title='Constant growth')\n",
    "\n",
    "savefig('chap05-fig02.pdf')"
   ]
  },
  {
   "cell_type": "markdown",
   "metadata": {},
   "source": [
    "The model fits the data pretty well after 1990, but not so well before."
   ]
  },
  {
   "cell_type": "markdown",
   "metadata": {},
   "source": [
    "### Exercises\n",
    "\n",
    "**Optional Exercise:**  Try fitting the model using data from 1970 to the present, and see if that does a better job.\n",
    "\n",
    "Hint: \n",
    "\n",
    "1. Copy the code from above and make a few changes.  Test your code after each small change.\n",
    "\n",
    "2. Make sure your `TimeSeries` starts in 1950, even though the estimated annual growth is based on later data.\n",
    "\n",
    "3. You might want to add a constant to the starting value to match the data better."
   ]
  },
  {
   "cell_type": "code",
   "execution_count": 31,
   "metadata": {},
   "outputs": [
    {
     "data": {
      "text/plain": [
       "0.07854997754347826"
      ]
     },
     "execution_count": 31,
     "metadata": {},
     "output_type": "execute_result"
    }
   ],
   "source": [
    "t_0 = get_first_label(census)\n",
    "t_end = get_last_label(census)\n",
    "t_1970 = 1970\n",
    "\n",
    "p_0 = get_first_value(census)\n",
    "p_end = get_last_value(census)\n",
    "p_1970 = census[1970]\n",
    "\n",
    "total_growth = p_end - p_1970\n",
    "elapsed_time = t_end - t_1970\n",
    "annual_growth = total_growth / elapsed_time"
   ]
  },
  {
   "cell_type": "code",
   "execution_count": 32,
   "metadata": {},
   "outputs": [],
   "source": [
    "results = TimeSeries()\n",
    "results[t_0] = census[t_0]\n",
    "\n",
    "max(abs(census - results) / results) * 100\n",
    "\n",
    "for t in linrange(t_0, t_end):\n",
    "    results[t+1] = results[t] + annual_growth"
   ]
  },
  {
   "cell_type": "code",
   "execution_count": 33,
   "metadata": {},
   "outputs": [
    {
     "name": "stdout",
     "output_type": "stream",
     "text": [
      "Saving figure to file chap05-fig03.pdf\n"
     ]
    },
    {
     "data": {
      "image/png": "[encoded data removed]",
      "text/plain": [
       "<Figure size 432x288 with 1 Axes>"
      ]
     },
     "metadata": {},
     "output_type": "display_data"
    }
   ],
   "source": [
    "for t in linrange(t_0, t_end):\n",
    "    results[t+1] = results[t] + annual_growth\n",
    "    \n",
    "plot(census, ':', label='US Census')\n",
    "plot(un, '--', label='UN DESA')\n",
    "plot(results - 0.4, color='gray', label='model')\n",
    "\n",
    "decorate(xlabel='Year', \n",
    "         ylabel='World population (billion)',\n",
    "         title='Constant growth')\n",
    "\n",
    "savefig('chap05-fig03.pdf')"
   ]
  }
 ],
 "metadata": {
  "kernelspec": {
   "display_name": "Python 3.9.12 ('base')",
   "language": "python",
   "name": "python3"
  },
  "language_info": {
   "codemirror_mode": {
    "name": "ipython",
    "version": 3
   },
   "file_extension": ".py",
   "mimetype": "text/x-python",
   "name": "python",
   "nbconvert_exporter": "python",
   "pygments_lexer": "ipython3",
   "version": "3.9.12"
  },
  "vscode": {
   "interpreter": {
    "hash": "7620178bed642c2dde5be7acf5bacc8060d72c266a8607acfff932cb142e8a45"
   }
  }
 },
 "nbformat": 4,
 "nbformat_minor": 2
}
