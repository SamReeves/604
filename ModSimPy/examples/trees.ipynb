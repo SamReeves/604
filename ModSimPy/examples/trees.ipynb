{
 "cells": [
  {
   "cell_type": "markdown",
   "metadata": {},
   "source": [
    "# Trees"
   ]
  },
  {
   "cell_type": "markdown",
   "metadata": {},
   "source": [
    "*Modeling and Simulation in Python*\n",
    "\n",
    "Copyright 2021 Allen Downey\n",
    "\n",
    "License: [Creative Commons Attribution-NonCommercial-ShareAlike 4.0 International](https://creativecommons.org/licenses/by-nc-sa/4.0/)"
   ]
  },
  {
   "cell_type": "code",
   "execution_count": null,
   "metadata": {
    "tags": []
   },
   "outputs": [],
   "source": [
    "# install Pint if necessary\n",
    "\n",
    "try:\n",
    "    import pint\n",
    "except ImportError:\n",
    "    !pip install pint"
   ]
  },
  {
   "cell_type": "code",
   "execution_count": null,
   "metadata": {
    "tags": []
   },
   "outputs": [],
   "source": [
    "# download modsim.py if necessary\n",
    "\n",
    "from os.path import exists\n",
    "\n",
    "filename = 'modsim.py'\n",
    "if not exists(filename):\n",
    "    from urllib.request import urlretrieve\n",
    "    url = 'https://raw.githubusercontent.com/AllenDowney/ModSim/main/'\n",
    "    local, _ = urlretrieve(url+filename, filename)\n",
    "    print('Downloaded ' + local)"
   ]
  },
  {
   "cell_type": "code",
   "execution_count": 1,
   "metadata": {
    "tags": []
   },
   "outputs": [],
   "source": [
    "# import functions from modsim\n",
    "\n",
    "from modsim import *"
   ]
  },
  {
   "cell_type": "markdown",
   "metadata": {},
   "source": [
    "## Modeling tree growth\n",
    "\n",
    "This case study is based on \"[Height-Age Curves for Planted Stands of Douglas Fir, with Adjustments for Density](http://www.cfr.washington.edu/research.smc/working_papers/smc_working_paper_1.pdf)\", a working paper by Flewelling, Collier, Gonyea, Marshall, and Turnblom.\n",
    "\n",
    "It provides \"site index curves\", which are curves that show the expected height of the tallest tree in a stand of Douglas firs as a function of age, for a stand where the trees are the same age.\n",
    "\n",
    "Depending on the quality of the site, the trees might grow more quickly or slowly.  So each curve is identified by a \"site index\" that indicates the quality of the site.\n",
    "\n",
    "I'll start with some of the data from their Table 1.  Here's the sequence of ages."
   ]
  },
  {
   "cell_type": "code",
   "execution_count": 2,
   "metadata": {},
   "outputs": [],
   "source": [
    "years = [2, 3, 4, 5, 6, 8, 10, 15, 20, 25, 30,\n",
    "         35, 40, 45, 50, 55, 60, 65, 70]"
   ]
  },
  {
   "cell_type": "markdown",
   "metadata": {},
   "source": [
    "And here's the series of heights for a site with index 45, indicating that height at 30 years is 45 feet."
   ]
  },
  {
   "cell_type": "code",
   "execution_count": 3,
   "metadata": {},
   "outputs": [],
   "source": [
    "site45 = TimeSeries([1.4, 1.49, 1.75, 2.18, 2.78, 4.45, 6.74,\n",
    "                    14.86, 25.39, 35.60, 45.00, 53.65, 61.60,\n",
    "                    68.92, 75.66, 81.85, 87.56, 92.8, 97.63],\n",
    "                    index=years)"
   ]
  },
  {
   "cell_type": "markdown",
   "metadata": {},
   "source": [
    "Here's the series for site index 65."
   ]
  },
  {
   "cell_type": "code",
   "execution_count": 4,
   "metadata": {},
   "outputs": [],
   "source": [
    "site65 = TimeSeries([1.4, 1.56, 2.01, 2.76, 3.79, 6.64, 10.44, \n",
    "                    23.26, 37.65, 51.66, 65.00, 77.50, 89.07, \n",
    "                    99.66, 109.28, 117.96, 125.74, 132.68, 138.84],\n",
    "                    index=years)"
   ]
  },
  {
   "cell_type": "markdown",
   "metadata": {},
   "source": [
    "And for site index 85."
   ]
  },
  {
   "cell_type": "code",
   "execution_count": 5,
   "metadata": {},
   "outputs": [],
   "source": [
    "site85 = TimeSeries([1.4, 1.8, 2.71, 4.09, 5.92, 10.73, 16.81, \n",
    "                 34.03, 51.26, 68.54, 85, 100.34, 114.33,\n",
    "                 126.91, 138.06, 147.86, 156.39, 163.76, 170.10],\n",
    "               index=years)"
   ]
  },
  {
   "cell_type": "markdown",
   "metadata": {},
   "source": [
    "Here's what the curves look like:"
   ]
  },
  {
   "cell_type": "code",
   "execution_count": 6,
   "metadata": {},
   "outputs": [
    {
     "data": {
      "image/png": "[encoded data removed]",
      "text/plain": [
       "<Figure size 432x288 with 1 Axes>"
      ]
     },
     "metadata": {},
     "output_type": "display_data"
    }
   ],
   "source": [
    "site85.plot(label='SI 85')\n",
    "site65.plot(label='SI 65')\n",
    "site45.plot(label='SI 45')\n",
    "decorate(xlabel='Time (years)',\n",
    "         ylabel='Height (feet)')"
   ]
  },
  {
   "cell_type": "markdown",
   "metadata": {},
   "source": [
    "For my examples I'll work with the SI 65 data; as an exercise, you can run the notebook again with either of the other curves."
   ]
  },
  {
   "cell_type": "code",
   "execution_count": 7,
   "metadata": {},
   "outputs": [],
   "source": [
    "data = site65"
   ]
  },
  {
   "cell_type": "markdown",
   "metadata": {},
   "source": [
    "## Model 1\n",
    "\n",
    "As a starting place, let's assume that the ability of the tree to gain mass is limited by the area it exposes to sunlight, and that the growth rate (in mass) is proportional to that area.  In that case we can write:\n",
    "\n",
    "$$ m_{n+1} = m_n + \\alpha A$$\n",
    "\n",
    "where $m_n$ is the mass of the at time step $n$, $A$ is the area exposed to sunlight, and $\\alpha$ is an unknown growth parameter.\n",
    "\n",
    "To get from $m$ to $A$, I'll make the additional assumption that mass is proportional to height raised to an unknown power:\n",
    "\n",
    "$$ m = \\beta h^D $$\n",
    "\n",
    "where $h$ is height, $\\beta$ is an unknown constant of proportionality, and $D$ is the dimension that relates height and mass. We'll start by assuming $D=3$, but we'll revisit that assumption.\n",
    "\n",
    "Finally, we'll assume that area is proportional to height squared:\n",
    "\n",
    "$$ A = \\gamma h^2$$\n",
    "\n",
    "I'll specify height in feet, and choose units for mass and area so that $\\beta=1$ and $\\gamma=1$.\n",
    "\n",
    "Putting all that together, we can write a difference equation for height:\n",
    "\n",
    "$$ h_{n+1}^D = h_n^D + \\alpha h_n^2 $$\n",
    "\n",
    "Now let's simulate this system.  Here's a system object with the parameters and initial conditions."
   ]
  },
  {
   "cell_type": "code",
   "execution_count": 8,
   "metadata": {},
   "outputs": [],
   "source": [
    "alpha = 7\n",
    "dim = 3\n",
    "\n",
    "t_0 = data.index[0]\n",
    "h_0 = data[t_0]\n",
    "t_end = data.index[-1]\n",
    "\n",
    "system = System(alpha=alpha, \n",
    "                dim=dim, \n",
    "                h_0=h_0, \n",
    "                t_0=t_0, \n",
    "                t_end=t_end)"
   ]
  },
  {
   "cell_type": "markdown",
   "metadata": {},
   "source": [
    "And here's an update function that takes the current height as a parameter and returns the height during the next time step."
   ]
  },
  {
   "cell_type": "code",
   "execution_count": 9,
   "metadata": {},
   "outputs": [],
   "source": [
    "def update(height, t, system):\n",
    "    \"\"\"Update height based on geometric model.\n",
    "    \n",
    "    height: current height in feet\n",
    "    t: what year it is\n",
    "    system: system object with model parameters\n",
    "    \"\"\"\n",
    "    area = height**2\n",
    "    mass = height**system.dim\n",
    "    mass += system.alpha * area\n",
    "    return mass**(1/system.dim)"
   ]
  },
  {
   "cell_type": "markdown",
   "metadata": {},
   "source": [
    "I'll test the update function with the initial conditions."
   ]
  },
  {
   "cell_type": "code",
   "execution_count": 10,
   "metadata": {},
   "outputs": [
    {
     "data": {
      "text/plain": [
       "2.5439688299649954"
      ]
     },
     "execution_count": 10,
     "metadata": {},
     "output_type": "execute_result"
    }
   ],
   "source": [
    "update(h_0, t_0, system)"
   ]
  },
  {
   "cell_type": "markdown",
   "metadata": {},
   "source": [
    "Here's our usual version of `run_simulation`."
   ]
  },
  {
   "cell_type": "code",
   "execution_count": 11,
   "metadata": {},
   "outputs": [],
   "source": [
    "def run_simulation(system, update_func):\n",
    "    \"\"\"Simulate the system using any update function.\n",
    "    \n",
    "    system: System object\n",
    "    update_func: function that computes the population next year\n",
    "    \n",
    "    returns: TimeSeries\n",
    "    \"\"\"\n",
    "    results = TimeSeries()\n",
    "    results[system.t_0] = system.h_0\n",
    "    \n",
    "    for t in linrange(system.t_0, system.t_end-1):\n",
    "        results[t+1] = update_func(results[t], t, system)\n",
    "        \n",
    "    return results"
   ]
  },
  {
   "cell_type": "markdown",
   "metadata": {},
   "source": [
    "And here's how we run it."
   ]
  },
  {
   "cell_type": "code",
   "execution_count": 12,
   "metadata": {},
   "outputs": [
    {
     "data": {
      "text/plain": [
       "65    138.202310\n",
       "66    140.497321\n",
       "67    142.792941\n",
       "68    145.089152\n",
       "69    147.385935\n",
       "dtype: float64"
      ]
     },
     "execution_count": 12,
     "metadata": {},
     "output_type": "execute_result"
    }
   ],
   "source": [
    "results = run_simulation(system, update)\n",
    "results.tail()"
   ]
  },
  {
   "cell_type": "markdown",
   "metadata": {},
   "source": [
    "Here's what the results look like:"
   ]
  },
  {
   "cell_type": "code",
   "execution_count": 16,
   "metadata": {},
   "outputs": [
    {
     "data": {
      "image/png": "[encoded data removed]",
      "text/plain": [
       "<Figure size 432x288 with 1 Axes>"
      ]
     },
     "metadata": {},
     "output_type": "display_data"
    }
   ],
   "source": [
    "def plot_results(results, data):\n",
    "    results.plot(label='model', color='gray')\n",
    "    data.plot(label='data')\n",
    "    decorate(xlabel='Time (years)',\n",
    "             ylabel='Height (feet)')\n",
    "    \n",
    "plot_results(results, data)"
   ]
  },
  {
   "cell_type": "markdown",
   "metadata": {},
   "source": [
    "The model converges to a straight line.\n",
    "\n",
    "I chose the value of `alpha` to fit the data as well as I could, but it is clear that the data have curvature that's not captured by the model.\n",
    "\n",
    "Here are the errors, that is, the differences between the model and the data."
   ]
  },
  {
   "cell_type": "code",
   "execution_count": 17,
   "metadata": {},
   "outputs": [
    {
     "data": {
      "text/plain": [
       "2     0.000000\n",
       "3     0.983969\n",
       "4     1.942915\n",
       "5     2.792070\n",
       "6     3.496882\n",
       "8     4.387116\n",
       "10    4.557437\n",
       "15    2.194275\n",
       "20   -1.346851\n",
       "25   -4.304519\n",
       "30   -6.468590\n",
       "35   -7.709926\n",
       "40   -7.962119\n",
       "45   -7.189989\n",
       "50   -5.413433\n",
       "55   -2.669382\n",
       "60    0.997125\n",
       "65    5.522310\n",
       "dtype: float64"
      ]
     },
     "execution_count": 17,
     "metadata": {},
     "output_type": "execute_result"
    }
   ],
   "source": [
    "errors = results - data\n",
    "errors.dropna()"
   ]
  },
  {
   "cell_type": "markdown",
   "metadata": {},
   "source": [
    "And here's the mean absolute error."
   ]
  },
  {
   "cell_type": "code",
   "execution_count": 18,
   "metadata": {},
   "outputs": [
    {
     "data": {
      "text/plain": [
       "3.8854948737726382"
      ]
     },
     "execution_count": 18,
     "metadata": {},
     "output_type": "execute_result"
    }
   ],
   "source": [
    "def mean_abs_error(results, data):\n",
    "    return (results-data).abs().mean()\n",
    "\n",
    "mean_abs_error(results, data)"
   ]
  },
  {
   "cell_type": "markdown",
   "metadata": {},
   "source": [
    "This model might explain why the height of a tree grows roughly linearly:\n",
    "\n",
    "1. If area is proportional to $h^2$ and mass is proportional to $h^3$, and\n",
    "\n",
    "2. Change in mass is proportional to area, and\n",
    "\n",
    "3. Height grows linearly, then\n",
    "\n",
    "4. Area grows in proportion to $h^2$, and\n",
    "\n",
    "5. Mass grows in proportion to $h^3$.\n",
    "\n",
    "If the goal is to explain (approximate) linear growth, we might stop there.  But this model does not fit the data particularly well, and it implies that trees could keep growing forever.\n",
    "\n",
    "So we might want to do better."
   ]
  },
  {
   "cell_type": "markdown",
   "metadata": {},
   "source": [
    "## Model 2"
   ]
  },
  {
   "cell_type": "markdown",
   "metadata": {},
   "source": [
    "As a second attempt, let's suppose that we don't know $D$.  In fact, we don't, because trees are not like simple solids; they are more like fractals, which have [fractal dimension](https://en.wikipedia.org/wiki/Fractal_dimension).\n",
    "\n",
    "I would expect the fractal dimension of a tree to be between 2 and 3, so I'll guess 2.5."
   ]
  },
  {
   "cell_type": "code",
   "execution_count": 19,
   "metadata": {},
   "outputs": [],
   "source": [
    "alpha = 7\n",
    "dim = 2.5"
   ]
  },
  {
   "cell_type": "markdown",
   "metadata": {},
   "source": [
    "I'll wrap the code from the previous section is a function that takes the parameters as inputs and makes a `System` object."
   ]
  },
  {
   "cell_type": "code",
   "execution_count": 20,
   "metadata": {},
   "outputs": [],
   "source": [
    "def make_system(params, data):\n",
    "    \"\"\"Makes a System object.\n",
    "    \n",
    "    params: sequence of alpha, dim\n",
    "    data: Series\n",
    "    \n",
    "    returns: System object\n",
    "    \"\"\"\n",
    "    alpha, dim = params\n",
    "    \n",
    "    t_0 = data.index[0]\n",
    "    t_end = data.index[-1]\n",
    "    h_0 = data[t_0]\n",
    "\n",
    "    return System(alpha=alpha, dim=dim, \n",
    "                  h_0=h_0, t_0=t_0, t_end=t_end)"
   ]
  },
  {
   "cell_type": "markdown",
   "metadata": {},
   "source": [
    "Here's how we use it."
   ]
  },
  {
   "cell_type": "code",
   "execution_count": 21,
   "metadata": {},
   "outputs": [],
   "source": [
    "params = alpha, dim\n",
    "system = make_system(params, data)"
   ]
  },
  {
   "cell_type": "markdown",
   "metadata": {},
   "source": [
    "With different values for the parameters, we get curves with different behavior.  Here are a few that I chose by hand."
   ]
  },
  {
   "cell_type": "code",
   "execution_count": 24,
   "metadata": {},
   "outputs": [],
   "source": [
    "def run_and_plot(alpha, dim, data):\n",
    "    params = alpha, dim\n",
    "    system = make_system(params, data)\n",
    "    results = run_simulation(system, update)\n",
    "    results.plot(color='gray', label='_nolegend')"
   ]
  },
  {
   "cell_type": "code",
   "execution_count": 25,
   "metadata": {},
   "outputs": [
    {
     "data": {
      "image/png": "[encoded data removed]",
      "text/plain": [
       "<Figure size 432x288 with 1 Axes>"
      ]
     },
     "metadata": {},
     "output_type": "display_data"
    }
   ],
   "source": [
    "run_and_plot(0.145, 2, data)\n",
    "run_and_plot(0.58, 2.4, data)\n",
    "run_and_plot(2.8, 2.8, data)\n",
    "run_and_plot(6.6, 3, data)\n",
    "run_and_plot(15.5, 3.2, data)\n",
    "run_and_plot(38, 3.4, data)\n",
    "\n",
    "data.plot(label='data')\n",
    "decorate(xlabel='Time (years)',\n",
    "             ylabel='Height (feet)')"
   ]
  },
  {
   "cell_type": "markdown",
   "metadata": {},
   "source": [
    "To find the parameters that best fit the data, I'll use `leastsq`.\n",
    "\n",
    "We need an error function that takes parameters and returns errors:"
   ]
  },
  {
   "cell_type": "code",
   "execution_count": 26,
   "metadata": {},
   "outputs": [],
   "source": [
    "def error_func(params, data, update_func):\n",
    "    \"\"\"Runs the model and returns errors.\n",
    "    \n",
    "    params: sequence of alpha, dim\n",
    "    data: Series\n",
    "    update_func: function object\n",
    "    \n",
    "    returns: Series of errors\n",
    "    \"\"\"\n",
    "    print(params)\n",
    "    system = make_system(params, data)\n",
    "    results = run_simulation(system, update_func)\n",
    "    return (results - data).dropna()"
   ]
  },
  {
   "cell_type": "markdown",
   "metadata": {},
   "source": [
    "Here's how we use it:"
   ]
  },
  {
   "cell_type": "code",
   "execution_count": 27,
   "metadata": {},
   "outputs": [
    {
     "name": "stdout",
     "output_type": "stream",
     "text": [
      "(7, 2.5)\n"
     ]
    }
   ],
   "source": [
    "errors = error_func(params, data, update)"
   ]
  },
  {
   "cell_type": "markdown",
   "metadata": {},
   "source": [
    "Now we can pass `error_func` to `leastsq`, which finds the parameters that minimize the squares of the errors."
   ]
  },
  {
   "cell_type": "code",
   "execution_count": 28,
   "metadata": {},
   "outputs": [
    {
     "name": "stdout",
     "output_type": "stream",
     "text": [
      "[7.  2.5]\n",
      "[7.  2.5]\n",
      "[7.  2.5]\n",
      "[7.0000001 2.5      ]\n",
      "[7.         2.50000004]\n",
      "[3.22399807 2.49588143]\n",
      "[3.22399812 2.49588143]\n",
      "[3.22399807 2.49588146]\n",
      "[2.21992211 2.52453715]\n",
      "[2.21992214 2.52453715]\n",
      "[2.21992211 2.52453719]\n",
      "[2.08611181 2.59578607]\n",
      "[2.08611184 2.59578607]\n",
      "[2.08611181 2.59578611]\n",
      "[2.77665077 2.7378218 ]\n",
      "[2.77665081 2.7378218 ]\n",
      "[2.77665077 2.73782184]\n",
      "[5.6441112  3.01752744]\n",
      "[3.56831301 2.83215378]\n",
      "[3.56831306 2.83215378]\n",
      "[3.56831301 2.83215382]\n",
      "[6.23512311 3.01557597]\n",
      "[4.07716218 2.86242557]\n",
      "[4.07716224 2.86242557]\n",
      "[4.07716218 2.86242561]\n",
      "[5.10242588 2.92291728]\n",
      "[5.10242595 2.92291728]\n",
      "[5.10242588 2.92291733]\n",
      "[6.43688693 2.98084875]\n",
      "[6.43688703 2.98084875]\n",
      "[6.43688693 2.98084879]\n",
      "[8.06095052 3.03556322]\n",
      "[8.06095064 3.03556322]\n",
      "[8.06095052 3.03556327]\n",
      "[9.82415553 3.08222555]\n",
      "[9.82415568 3.08222555]\n",
      "[9.82415553 3.08222559]\n",
      "[9.76494808 3.07521243]\n",
      "[9.76494823 3.07521243]\n",
      "[9.76494808 3.07521247]\n",
      "[9.80839753 3.07638276]\n",
      "[9.80839768 3.07638276]\n",
      "[9.80839753 3.07638281]\n",
      "[9.80214729 3.07622421]\n",
      "[9.80214744 3.07622421]\n",
      "[9.80214729 3.07622426]\n",
      "[9.80301086 3.07624575]\n"
     ]
    }
   ],
   "source": [
    "best_params, details = leastsq(error_func, params, data, update)"
   ]
  },
  {
   "cell_type": "code",
   "execution_count": 29,
   "metadata": {},
   "outputs": [
    {
     "ename": "AttributeError",
     "evalue": "'ModSimSeries' object has no attribute 'success'",
     "output_type": "error",
     "traceback": [
      "\u001b[0;31m---------------------------------------------------------------------------\u001b[0m",
      "\u001b[0;31mAttributeError\u001b[0m                            Traceback (most recent call last)",
      "\u001b[1;32m/home/s/Desktop/trees.ipynb Cell 51'\u001b[0m in \u001b[0;36m<cell line: 1>\u001b[0;34m()\u001b[0m\n\u001b[0;32m----> <a href='vscode-notebook-cell:/home/s/Desktop/trees.ipynb#ch0000050?line=0'>1</a>\u001b[0m \u001b[39mprint\u001b[39m(details\u001b[39m.\u001b[39;49msuccess)\n",
      "File \u001b[0;32m~/anaconda3/lib/python3.9/site-packages/pandas/core/generic.py:5575\u001b[0m, in \u001b[0;36mNDFrame.__getattr__\u001b[0;34m(self, name)\u001b[0m\n\u001b[1;32m   5568\u001b[0m \u001b[39mif\u001b[39;00m (\n\u001b[1;32m   5569\u001b[0m     name \u001b[39mnot\u001b[39;00m \u001b[39min\u001b[39;00m \u001b[39mself\u001b[39m\u001b[39m.\u001b[39m_internal_names_set\n\u001b[1;32m   5570\u001b[0m     \u001b[39mand\u001b[39;00m name \u001b[39mnot\u001b[39;00m \u001b[39min\u001b[39;00m \u001b[39mself\u001b[39m\u001b[39m.\u001b[39m_metadata\n\u001b[1;32m   5571\u001b[0m     \u001b[39mand\u001b[39;00m name \u001b[39mnot\u001b[39;00m \u001b[39min\u001b[39;00m \u001b[39mself\u001b[39m\u001b[39m.\u001b[39m_accessors\n\u001b[1;32m   5572\u001b[0m     \u001b[39mand\u001b[39;00m \u001b[39mself\u001b[39m\u001b[39m.\u001b[39m_info_axis\u001b[39m.\u001b[39m_can_hold_identifiers_and_holds_name(name)\n\u001b[1;32m   5573\u001b[0m ):\n\u001b[1;32m   5574\u001b[0m     \u001b[39mreturn\u001b[39;00m \u001b[39mself\u001b[39m[name]\n\u001b[0;32m-> 5575\u001b[0m \u001b[39mreturn\u001b[39;00m \u001b[39mobject\u001b[39;49m\u001b[39m.\u001b[39;49m\u001b[39m__getattribute__\u001b[39;49m(\u001b[39mself\u001b[39;49m, name)\n",
      "\u001b[0;31mAttributeError\u001b[0m: 'ModSimSeries' object has no attribute 'success'"
     ]
    }
   ],
   "source": [
    "print(details.success)"
   ]
  },
  {
   "cell_type": "markdown",
   "metadata": {},
   "source": [
    "Using the best parameters we found, we can run the model and plot the results."
   ]
  },
  {
   "cell_type": "code",
   "execution_count": 30,
   "metadata": {},
   "outputs": [
    {
     "data": {
      "image/png": "[encoded data removed]",
      "text/plain": [
       "<Figure size 432x288 with 1 Axes>"
      ]
     },
     "metadata": {},
     "output_type": "display_data"
    }
   ],
   "source": [
    "system = make_system(best_params, data)\n",
    "results = run_simulation(system, update)\n",
    "plot_results(results, data)"
   ]
  },
  {
   "cell_type": "markdown",
   "metadata": {},
   "source": [
    "The mean absolute error is better than for Model 1, but that doesn't mean much.  The model still doesn't fit the data well."
   ]
  },
  {
   "cell_type": "code",
   "execution_count": 31,
   "metadata": {},
   "outputs": [
    {
     "data": {
      "text/plain": [
       "3.306168894642939"
      ]
     },
     "execution_count": 31,
     "metadata": {},
     "output_type": "execute_result"
    }
   ],
   "source": [
    "mean_abs_error(results, data)"
   ]
  },
  {
   "cell_type": "markdown",
   "metadata": {},
   "source": [
    "And the estimated fractal dimension is 3.11, which doesn't seem likely.\n",
    "\n",
    "Let's try one more thing."
   ]
  },
  {
   "cell_type": "markdown",
   "metadata": {},
   "source": [
    "## Model 3"
   ]
  },
  {
   "cell_type": "markdown",
   "metadata": {},
   "source": [
    "Models 1 and 2 imply that trees can grow forever, but we know that's not true.  As trees get taller, it gets harder for them to move water and nutrients against the force of gravity, and their growth slows.\n",
    "\n",
    "We can model this effect by adding a term to the model similar to what we saw in the logistic model of population growth.  Instead of assuming:\n",
    "\n",
    "$ m_{n+1} = m_n + \\alpha A $ \n",
    "\n",
    "Let's assume\n",
    "\n",
    "$ m_{n+1} = m_n + \\alpha A (1 - h / K) $\n",
    "\n",
    "where $K$ is similar to the carrying capacity of the logistic model.  As $h$ approaches $K$, the factor $(1 - h/K)$ goes to 0, causing growth to level off.\n",
    "\n",
    "Here's what the implementation of this model looks like:"
   ]
  },
  {
   "cell_type": "code",
   "execution_count": 32,
   "metadata": {},
   "outputs": [],
   "source": [
    "alpha = 2.0\n",
    "dim = 2.5\n",
    "K = 150\n",
    "\n",
    "params = [alpha, dim, K]"
   ]
  },
  {
   "cell_type": "markdown",
   "metadata": {},
   "source": [
    "Here's an updated version of `make_system`"
   ]
  },
  {
   "cell_type": "code",
   "execution_count": 33,
   "metadata": {},
   "outputs": [],
   "source": [
    "def make_system(params, data):\n",
    "    \"\"\"Makes a System object.\n",
    "    \n",
    "    params: sequence of alpha, dim, K\n",
    "    data: Series\n",
    "    \n",
    "    returns: System object\n",
    "    \"\"\"\n",
    "    alpha, dim, K = params\n",
    "    \n",
    "    t_0 = data.index[0]\n",
    "    t_end = data.index[-1]\n",
    "    h_0 = data[t_0]\n",
    "\n",
    "    return System(alpha=alpha, dim=dim, K=K, \n",
    "                  h_0=h_0, t_0=t_0, t_end=t_end)"
   ]
  },
  {
   "cell_type": "markdown",
   "metadata": {},
   "source": [
    "Here's the new `System` object."
   ]
  },
  {
   "cell_type": "code",
   "execution_count": 34,
   "metadata": {},
   "outputs": [],
   "source": [
    "system = make_system(params, data)"
   ]
  },
  {
   "cell_type": "markdown",
   "metadata": {},
   "source": [
    "And here's the new update function."
   ]
  },
  {
   "cell_type": "code",
   "execution_count": 35,
   "metadata": {},
   "outputs": [],
   "source": [
    "def update3(height, t, system):\n",
    "    \"\"\"Update height based on geometric model with growth limiting term.\n",
    "    \n",
    "    height: current height in feet\n",
    "    t: what year it is\n",
    "    system: system object with model parameters\n",
    "    \"\"\"\n",
    "    area = height**2\n",
    "    mass = height**system.dim\n",
    "    mass += system.alpha * area * (1 - height/system.K)\n",
    "    return mass**(1/system.dim)"
   ]
  },
  {
   "cell_type": "markdown",
   "metadata": {},
   "source": [
    "As always, we'll test the update function with the initial conditions."
   ]
  },
  {
   "cell_type": "code",
   "execution_count": 36,
   "metadata": {},
   "outputs": [
    {
     "data": {
      "text/plain": [
       "2.075043351397076"
      ]
     },
     "execution_count": 36,
     "metadata": {},
     "output_type": "execute_result"
    }
   ],
   "source": [
    "update3(h_0, t_0, system)"
   ]
  },
  {
   "cell_type": "markdown",
   "metadata": {},
   "source": [
    "And we'll test the error function with the new update function."
   ]
  },
  {
   "cell_type": "code",
   "execution_count": 37,
   "metadata": {},
   "outputs": [
    {
     "name": "stdout",
     "output_type": "stream",
     "text": [
      "[2.0, 2.5, 150]\n"
     ]
    },
    {
     "data": {
      "text/plain": [
       "2      0.000000\n",
       "3      0.515043\n",
       "4      0.920001\n",
       "5      1.216367\n",
       "6      1.431972\n",
       "8      1.685640\n",
       "10     1.801190\n",
       "15     1.975039\n",
       "20     3.929748\n",
       "25     7.701256\n",
       "30    11.775782\n",
       "35    15.027748\n",
       "40    16.865948\n",
       "45    17.173291\n",
       "50    16.106566\n",
       "55    13.967791\n",
       "60    11.095254\n",
       "65     7.785693\n",
       "dtype: float64"
      ]
     },
     "execution_count": 37,
     "metadata": {},
     "output_type": "execute_result"
    }
   ],
   "source": [
    "error_func(params, data, update3)"
   ]
  },
  {
   "cell_type": "markdown",
   "metadata": {},
   "source": [
    "Now let's search for the best parameters."
   ]
  },
  {
   "cell_type": "code",
   "execution_count": 38,
   "metadata": {},
   "outputs": [
    {
     "name": "stdout",
     "output_type": "stream",
     "text": [
      "[  2.    2.5 150. ]\n",
      "[  2.    2.5 150. ]\n",
      "[  2.    2.5 150. ]\n",
      "[  2.00000003   2.5        150.        ]\n",
      "[  2.           2.50000004 150.        ]\n",
      "[  2.           2.5        150.00000224]\n",
      "[  2.47298135   2.61018564 150.41103264]\n",
      "[  2.47298139   2.61018564 150.41103264]\n",
      "[  2.47298135   2.61018568 150.41103264]\n",
      "[  2.47298135   2.61018564 150.41103489]\n",
      "[  2.59048742   2.62793207 160.26024473]\n",
      "[  2.59048746   2.62793207 160.26024473]\n",
      "[  2.59048742   2.62793211 160.26024473]\n",
      "[  2.59048742   2.62793207 160.26024712]\n",
      "[  2.5893654    2.62749125 161.00227977]\n",
      "[  2.58936544   2.62749125 161.00227977]\n",
      "[  2.5893654    2.62749129 161.00227977]\n",
      "[  2.5893654    2.62749125 161.00228217]\n",
      "[  2.59054671   2.62763519 161.02813105]\n",
      "[  2.59054675   2.62763519 161.02813105]\n",
      "[  2.59054671   2.62763523 161.02813105]\n",
      "[  2.59054671   2.62763519 161.02813345]\n",
      "[  2.59045144   2.62762418 161.02662686]\n"
     ]
    }
   ],
   "source": [
    "best_params, details = leastsq(error_func, params, data, update3)"
   ]
  },
  {
   "cell_type": "code",
   "execution_count": 39,
   "metadata": {},
   "outputs": [
    {
     "ename": "AttributeError",
     "evalue": "'ModSimSeries' object has no attribute 'success'",
     "output_type": "error",
     "traceback": [
      "\u001b[0;31m---------------------------------------------------------------------------\u001b[0m",
      "\u001b[0;31mAttributeError\u001b[0m                            Traceback (most recent call last)",
      "\u001b[1;32m/home/s/Desktop/trees.ipynb Cell 72'\u001b[0m in \u001b[0;36m<cell line: 1>\u001b[0;34m()\u001b[0m\n\u001b[0;32m----> <a href='vscode-notebook-cell:/home/s/Desktop/trees.ipynb#ch0000071?line=0'>1</a>\u001b[0m details\u001b[39m.\u001b[39;49msuccess\n",
      "File \u001b[0;32m~/anaconda3/lib/python3.9/site-packages/pandas/core/generic.py:5575\u001b[0m, in \u001b[0;36mNDFrame.__getattr__\u001b[0;34m(self, name)\u001b[0m\n\u001b[1;32m   5568\u001b[0m \u001b[39mif\u001b[39;00m (\n\u001b[1;32m   5569\u001b[0m     name \u001b[39mnot\u001b[39;00m \u001b[39min\u001b[39;00m \u001b[39mself\u001b[39m\u001b[39m.\u001b[39m_internal_names_set\n\u001b[1;32m   5570\u001b[0m     \u001b[39mand\u001b[39;00m name \u001b[39mnot\u001b[39;00m \u001b[39min\u001b[39;00m \u001b[39mself\u001b[39m\u001b[39m.\u001b[39m_metadata\n\u001b[1;32m   5571\u001b[0m     \u001b[39mand\u001b[39;00m name \u001b[39mnot\u001b[39;00m \u001b[39min\u001b[39;00m \u001b[39mself\u001b[39m\u001b[39m.\u001b[39m_accessors\n\u001b[1;32m   5572\u001b[0m     \u001b[39mand\u001b[39;00m \u001b[39mself\u001b[39m\u001b[39m.\u001b[39m_info_axis\u001b[39m.\u001b[39m_can_hold_identifiers_and_holds_name(name)\n\u001b[1;32m   5573\u001b[0m ):\n\u001b[1;32m   5574\u001b[0m     \u001b[39mreturn\u001b[39;00m \u001b[39mself\u001b[39m[name]\n\u001b[0;32m-> 5575\u001b[0m \u001b[39mreturn\u001b[39;00m \u001b[39mobject\u001b[39;49m\u001b[39m.\u001b[39;49m\u001b[39m__getattribute__\u001b[39;49m(\u001b[39mself\u001b[39;49m, name)\n",
      "\u001b[0;31mAttributeError\u001b[0m: 'ModSimSeries' object has no attribute 'success'"
     ]
    }
   ],
   "source": [
    "details.success"
   ]
  },
  {
   "cell_type": "markdown",
   "metadata": {},
   "source": [
    "With these parameters, we can fit the data much better."
   ]
  },
  {
   "cell_type": "code",
   "execution_count": 40,
   "metadata": {},
   "outputs": [
    {
     "data": {
      "image/png": "[encoded data removed]",
      "text/plain": [
       "<Figure size 432x288 with 1 Axes>"
      ]
     },
     "metadata": {},
     "output_type": "display_data"
    }
   ],
   "source": [
    "system = make_system(best_params, data)\n",
    "results = run_simulation(system, update3)\n",
    "plot_results(results, data)"
   ]
  },
  {
   "cell_type": "markdown",
   "metadata": {},
   "source": [
    "And the mean absolute error is substantially smaller."
   ]
  },
  {
   "cell_type": "code",
   "execution_count": 41,
   "metadata": {},
   "outputs": [
    {
     "data": {
      "text/plain": [
       "0.8690732681449733"
      ]
     },
     "execution_count": 41,
     "metadata": {},
     "output_type": "execute_result"
    }
   ],
   "source": [
    "mean_abs_error(results, data)"
   ]
  },
  {
   "cell_type": "markdown",
   "metadata": {},
   "source": [
    "The estimated fractal dimension is about 2.6, which is plausible; it suggests that if you double the height of the tree, the mass grows by a factor of $2^{2.6}$"
   ]
  },
  {
   "cell_type": "code",
   "execution_count": 42,
   "metadata": {},
   "outputs": [
    {
     "data": {
      "text/plain": [
       "6.062866266041593"
      ]
     },
     "execution_count": 42,
     "metadata": {},
     "output_type": "execute_result"
    }
   ],
   "source": [
    "2**2.6"
   ]
  },
  {
   "cell_type": "markdown",
   "metadata": {},
   "source": [
    "In other words, the mass of the tree scales faster than area, but not as fast as it would for a solid 3-D object.\n",
    "\n",
    "What is this model good for?\n",
    "\n",
    "1) It offers a possible explanation for the shape of tree growth curves.\n",
    "\n",
    "2) It provides a way to estimate the fractal dimension of a tree based on a growth curve (probably with different values for different species).\n",
    "\n",
    "3) It might provide a way to predict future growth of a tree, based on measurements of past growth.  As with the logistic population model, this would probably only work if we have observed the part of the curve where the growth rate starts to decline."
   ]
  },
  {
   "cell_type": "markdown",
   "metadata": {},
   "source": [
    "## Analysis\n",
    "\n",
    "With some help from my colleague, John Geddes, we can do some analysis.\n",
    "\n",
    "Starting with the difference equation in terms of mass:\n",
    " \n",
    "$m_{n+1} = m_n + \\alpha A (1 - h / K) $\n",
    "\n",
    "We can write the corresponding differential equation:\n",
    "\n",
    "(1) $ \\frac{dm}{dt} = \\alpha A (1 - h / K) $\n",
    "\n",
    "With\n",
    "\n",
    "(2) $A = h^2$\n",
    "\n",
    "and\n",
    "\n",
    "(3) $m = h^D$"
   ]
  },
  {
   "cell_type": "markdown",
   "metadata": {},
   "source": [
    "Taking the derivative of the last equation yields\n",
    "\n",
    "(4) $\\frac{dm}{dt} = D h^{D-1} \\frac{dh}{dt}$\n",
    "\n",
    "Combining (1), (2), and (4), we can write a differential equation for $h$:\n",
    "\n",
    "(5) $\\frac{dh}{dt} = \\frac{\\alpha}{D} h^{3-D} (1 - h/K)$"
   ]
  },
  {
   "cell_type": "markdown",
   "metadata": {},
   "source": [
    "Now let's consider two cases:\n",
    "\n",
    "* With infinite $K$, the factor $(1 - h/K)$ approaches 1, so we have Model 2.\n",
    "\n",
    "* With finite $K$, we have Model 3."
   ]
  },
  {
   "cell_type": "markdown",
   "metadata": {},
   "source": [
    "### Model 2\n",
    "\n",
    "Within Model 2, we'll consider two special cases, with $D=2$ and $D=3$.\n",
    "\n",
    "With $D=2$, we have\n",
    "\n",
    "$\\frac{dh}{dt} = \\frac{\\alpha}{2} h$\n",
    "\n",
    "which yields exponential growth with parameter $\\alpha/2$.\n",
    "\n",
    "With $D=3$, we have Model 1, with this equation:\n",
    "\n",
    "$\\frac{dh}{dt} = \\frac{\\alpha}{3}$\n",
    "\n",
    "which yields linear growth with parameter $\\alpha/3$. This result explains why Model 1 is linear."
   ]
  },
  {
   "cell_type": "markdown",
   "metadata": {},
   "source": [
    "### Model 3\n",
    "\n",
    "Within Model 3, we'll consider two special cases, with $D=2$ and $D=3$.\n",
    "\n",
    "With $D=2$, we have\n",
    "\n",
    "$\\frac{dh}{dt} = \\frac{\\alpha}{2} h (1 - h/K)$\n",
    "\n",
    "which yields logisitic growth with parameters $r = \\alpha/2$ and $K$.\n",
    "\n",
    "With $D=3$, we have\n",
    "\n",
    "$\\frac{dh}{dt} = \\frac{\\alpha}{3} (1 - h/K)$\n",
    "\n",
    "which yields a first order step response; that is, it converges to $K$ like a negative exponential:\n",
    "\n",
    "$ h(t) = c \\exp(-\\frac{\\alpha}{3K} t) + K $\n",
    "\n",
    "where $c$ is a constant that depends on the initial conditions."
   ]
  },
  {
   "cell_type": "markdown",
   "metadata": {},
   "source": [
    "**Open Exercise** Find an analytic solution when $D$ is between 2 and 3, and compare it to the data.  Note: The parameters we estimated for the difference equation might not be right for the differential equation."
   ]
  },
  {
   "cell_type": "markdown",
   "metadata": {},
   "source": [
    "Additional resources:\n",
    "\n",
    "Garcia, [A stochastic differential equation model for the\n",
    "height growth of forest stands](http://citeseerx.ist.psu.edu/viewdoc/download;jsessionid=664FED1E46ABCBF6E16741C294B79976?doi=10.1.1.608.81&rep=rep1&type=pdf)\n",
    "\n",
    "[EasySDE software and data](http://forestgrowth.unbc.ca/)"
   ]
  },
  {
   "cell_type": "code",
   "execution_count": null,
   "metadata": {},
   "outputs": [],
   "source": []
  }
 ],
 "metadata": {
  "kernelspec": {
   "display_name": "Python 3.9.12 ('base')",
   "language": "python",
   "name": "python3"
  },
  "language_info": {
   "codemirror_mode": {
    "name": "ipython",
    "version": 3
   },
   "file_extension": ".py",
   "mimetype": "text/x-python",
   "name": "python",
   "nbconvert_exporter": "python",
   "pygments_lexer": "ipython3",
   "version": "3.9.12"
  },
  "vscode": {
   "interpreter": {
    "hash": "7620178bed642c2dde5be7acf5bacc8060d72c266a8607acfff932cb142e8a45"
   }
  }
 },
 "nbformat": 4,
 "nbformat_minor": 2
}
